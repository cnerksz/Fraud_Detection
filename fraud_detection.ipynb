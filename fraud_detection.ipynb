{
 "cells": [
  {
   "cell_type": "markdown",
   "id": "c733a0312a7dea2a",
   "metadata": {},
   "source": [
    "# Libraries & Settings"
   ]
  },
  {
   "cell_type": "code",
   "execution_count": 40,
   "id": "8e39dbe896d6b31e",
   "metadata": {
    "ExecuteTime": {
     "end_time": "2024-05-18T16:02:02.285110Z",
     "start_time": "2024-05-18T16:02:02.272147Z"
    }
   },
   "outputs": [],
   "source": [
    "from utils import *\n",
    "import pandas as pd\n",
    "import numpy as np\n",
    "import matplotlib.pyplot as plt\n",
    "import seaborn as sns\n",
    "import warnings\n",
    "from sklearn.preprocessing import RobustScaler\n",
    "from sklearn.model_selection import train_test_split\n",
    "from imblearn.under_sampling import RandomUnderSampler\n",
    "from sklearn.metrics import make_scorer, matthews_corrcoef, confusion_matrix\n",
    "from sklearn.ensemble import VotingClassifier\n",
    "from sklearn.metrics import classification_report\n",
    "from sklearn.utils.class_weight import compute_class_weight"
   ]
  },
  {
   "cell_type": "code",
   "execution_count": 2,
   "id": "b8f1e30cc5104087",
   "metadata": {
    "ExecuteTime": {
     "end_time": "2024-05-18T15:12:20.667732Z",
     "start_time": "2024-05-18T15:12:20.652781Z"
    }
   },
   "outputs": [],
   "source": [
    "pd.set_option(\"display.max_columns\", None)\n",
    "pd.set_option(\"display.width\", 1000)\n",
    "pd.set_option(\"display.precision\", 3)\n",
    "sns.set({\"figure.figsize\": (10, 6)})\n",
    "plt.style.use(\"tableau-colorblind10\")\n",
    "warnings.filterwarnings(\"ignore\")"
   ]
  },
  {
   "cell_type": "markdown",
   "id": "4b8e7b8ac47596e9",
   "metadata": {},
   "source": [
    "# Reading Dataset & First Observations"
   ]
  },
  {
   "cell_type": "markdown",
   "id": "bf56c0a944c0fe82",
   "metadata": {},
   "source": [
    "  *__Dataset Info:__*\n",
    "The binary classification goal is to predict if the transaction is fraud  (variable Class).\n",
    "  \n",
    "The dataset contains transactions made by credit cards in September 2013 by European cardholders.\n",
    "\n",
    "*__Dataset Link:__* https://www.kaggle.com/datasets/mlg-ulb/creditcardfraud\n",
    "\n",
    "*__Notes:__* This dataset presents transactions that occurred in two days, where we have 492 frauds out of 284,807 transactions. The dataset is highly unbalanced, the positive class (frauds) account for 0.172% of all transactions. It contains only numerical input variables which are the result of a PCA transformation. Unfortunately, due to confidentiality issues, dataset cannot provide the original features and more background information about the data. Features V1, V2, … V28 are the principal components obtained with PCA, the only features which have not been transformed with PCA are __Time__ and __Amount__.\n",
    "\n",
    "*__Features:__*\n",
    "\n",
    "1 - __Time:__ Number of seconds elapsed between this transaction and the first transaction in the dataset\n",
    "\n",
    "2 - __V1,V2...V28:__  Those features are anonamised due to customer confidentiality, (all of them are numeric)\n",
    "\n",
    "3- __Amount:__ Transaction amount\n",
    "\n",
    "4- __Class:__ Target variable, 1 for fraudulent transactions, 0 otherwise "
   ]
  },
  {
   "cell_type": "code",
   "execution_count": 3,
   "id": "b28dae1c5a3e4a12",
   "metadata": {
    "ExecuteTime": {
     "end_time": "2024-05-18T15:12:21.310111Z",
     "start_time": "2024-05-18T15:12:20.668728Z"
    }
   },
   "outputs": [],
   "source": [
    "fraud = pd.read_csv(\"dataset/creditcard.csv\")\n",
    "data = fraud.copy()"
   ]
  },
  {
   "cell_type": "code",
   "execution_count": 4,
   "id": "e634c3b9626a220a",
   "metadata": {
    "ExecuteTime": {
     "end_time": "2024-05-18T15:12:21.341008Z",
     "start_time": "2024-05-18T15:12:21.311107Z"
    }
   },
   "outputs": [
    {
     "data": {
      "text/html": [
       "<div>\n",
       "<style scoped>\n",
       "    .dataframe tbody tr th:only-of-type {\n",
       "        vertical-align: middle;\n",
       "    }\n",
       "\n",
       "    .dataframe tbody tr th {\n",
       "        vertical-align: top;\n",
       "    }\n",
       "\n",
       "    .dataframe thead th {\n",
       "        text-align: right;\n",
       "    }\n",
       "</style>\n",
       "<table border=\"1\" class=\"dataframe\">\n",
       "  <thead>\n",
       "    <tr style=\"text-align: right;\">\n",
       "      <th></th>\n",
       "      <th>Time</th>\n",
       "      <th>V1</th>\n",
       "      <th>V2</th>\n",
       "      <th>V3</th>\n",
       "      <th>V4</th>\n",
       "      <th>V5</th>\n",
       "      <th>V6</th>\n",
       "      <th>V7</th>\n",
       "      <th>V8</th>\n",
       "      <th>V9</th>\n",
       "      <th>V10</th>\n",
       "      <th>V11</th>\n",
       "      <th>V12</th>\n",
       "      <th>V13</th>\n",
       "      <th>V14</th>\n",
       "      <th>V15</th>\n",
       "      <th>V16</th>\n",
       "      <th>V17</th>\n",
       "      <th>V18</th>\n",
       "      <th>V19</th>\n",
       "      <th>V20</th>\n",
       "      <th>V21</th>\n",
       "      <th>V22</th>\n",
       "      <th>V23</th>\n",
       "      <th>V24</th>\n",
       "      <th>V25</th>\n",
       "      <th>V26</th>\n",
       "      <th>V27</th>\n",
       "      <th>V28</th>\n",
       "      <th>Amount</th>\n",
       "      <th>Class</th>\n",
       "    </tr>\n",
       "  </thead>\n",
       "  <tbody>\n",
       "    <tr>\n",
       "      <th>0</th>\n",
       "      <td>0.0</td>\n",
       "      <td>-1.360</td>\n",
       "      <td>-0.073</td>\n",
       "      <td>2.536</td>\n",
       "      <td>1.378</td>\n",
       "      <td>-0.338</td>\n",
       "      <td>0.462</td>\n",
       "      <td>0.240</td>\n",
       "      <td>0.099</td>\n",
       "      <td>0.364</td>\n",
       "      <td>0.091</td>\n",
       "      <td>-0.552</td>\n",
       "      <td>-0.618</td>\n",
       "      <td>-0.991</td>\n",
       "      <td>-0.311</td>\n",
       "      <td>1.468</td>\n",
       "      <td>-0.470</td>\n",
       "      <td>0.208</td>\n",
       "      <td>0.026</td>\n",
       "      <td>0.404</td>\n",
       "      <td>0.251</td>\n",
       "      <td>-0.018</td>\n",
       "      <td>0.278</td>\n",
       "      <td>-0.110</td>\n",
       "      <td>0.067</td>\n",
       "      <td>0.129</td>\n",
       "      <td>-0.189</td>\n",
       "      <td>0.134</td>\n",
       "      <td>-0.021</td>\n",
       "      <td>149.62</td>\n",
       "      <td>0</td>\n",
       "    </tr>\n",
       "    <tr>\n",
       "      <th>1</th>\n",
       "      <td>0.0</td>\n",
       "      <td>1.192</td>\n",
       "      <td>0.266</td>\n",
       "      <td>0.166</td>\n",
       "      <td>0.448</td>\n",
       "      <td>0.060</td>\n",
       "      <td>-0.082</td>\n",
       "      <td>-0.079</td>\n",
       "      <td>0.085</td>\n",
       "      <td>-0.255</td>\n",
       "      <td>-0.167</td>\n",
       "      <td>1.613</td>\n",
       "      <td>1.065</td>\n",
       "      <td>0.489</td>\n",
       "      <td>-0.144</td>\n",
       "      <td>0.636</td>\n",
       "      <td>0.464</td>\n",
       "      <td>-0.115</td>\n",
       "      <td>-0.183</td>\n",
       "      <td>-0.146</td>\n",
       "      <td>-0.069</td>\n",
       "      <td>-0.226</td>\n",
       "      <td>-0.639</td>\n",
       "      <td>0.101</td>\n",
       "      <td>-0.340</td>\n",
       "      <td>0.167</td>\n",
       "      <td>0.126</td>\n",
       "      <td>-0.009</td>\n",
       "      <td>0.015</td>\n",
       "      <td>2.69</td>\n",
       "      <td>0</td>\n",
       "    </tr>\n",
       "    <tr>\n",
       "      <th>2</th>\n",
       "      <td>1.0</td>\n",
       "      <td>-1.358</td>\n",
       "      <td>-1.340</td>\n",
       "      <td>1.773</td>\n",
       "      <td>0.380</td>\n",
       "      <td>-0.503</td>\n",
       "      <td>1.800</td>\n",
       "      <td>0.791</td>\n",
       "      <td>0.248</td>\n",
       "      <td>-1.515</td>\n",
       "      <td>0.208</td>\n",
       "      <td>0.625</td>\n",
       "      <td>0.066</td>\n",
       "      <td>0.717</td>\n",
       "      <td>-0.166</td>\n",
       "      <td>2.346</td>\n",
       "      <td>-2.890</td>\n",
       "      <td>1.110</td>\n",
       "      <td>-0.121</td>\n",
       "      <td>-2.262</td>\n",
       "      <td>0.525</td>\n",
       "      <td>0.248</td>\n",
       "      <td>0.772</td>\n",
       "      <td>0.909</td>\n",
       "      <td>-0.689</td>\n",
       "      <td>-0.328</td>\n",
       "      <td>-0.139</td>\n",
       "      <td>-0.055</td>\n",
       "      <td>-0.060</td>\n",
       "      <td>378.66</td>\n",
       "      <td>0</td>\n",
       "    </tr>\n",
       "    <tr>\n",
       "      <th>3</th>\n",
       "      <td>1.0</td>\n",
       "      <td>-0.966</td>\n",
       "      <td>-0.185</td>\n",
       "      <td>1.793</td>\n",
       "      <td>-0.863</td>\n",
       "      <td>-0.010</td>\n",
       "      <td>1.247</td>\n",
       "      <td>0.238</td>\n",
       "      <td>0.377</td>\n",
       "      <td>-1.387</td>\n",
       "      <td>-0.055</td>\n",
       "      <td>-0.226</td>\n",
       "      <td>0.178</td>\n",
       "      <td>0.508</td>\n",
       "      <td>-0.288</td>\n",
       "      <td>-0.631</td>\n",
       "      <td>-1.060</td>\n",
       "      <td>-0.684</td>\n",
       "      <td>1.966</td>\n",
       "      <td>-1.233</td>\n",
       "      <td>-0.208</td>\n",
       "      <td>-0.108</td>\n",
       "      <td>0.005</td>\n",
       "      <td>-0.190</td>\n",
       "      <td>-1.176</td>\n",
       "      <td>0.647</td>\n",
       "      <td>-0.222</td>\n",
       "      <td>0.063</td>\n",
       "      <td>0.061</td>\n",
       "      <td>123.50</td>\n",
       "      <td>0</td>\n",
       "    </tr>\n",
       "    <tr>\n",
       "      <th>4</th>\n",
       "      <td>2.0</td>\n",
       "      <td>-1.158</td>\n",
       "      <td>0.878</td>\n",
       "      <td>1.549</td>\n",
       "      <td>0.403</td>\n",
       "      <td>-0.407</td>\n",
       "      <td>0.096</td>\n",
       "      <td>0.593</td>\n",
       "      <td>-0.271</td>\n",
       "      <td>0.818</td>\n",
       "      <td>0.753</td>\n",
       "      <td>-0.823</td>\n",
       "      <td>0.538</td>\n",
       "      <td>1.346</td>\n",
       "      <td>-1.120</td>\n",
       "      <td>0.175</td>\n",
       "      <td>-0.451</td>\n",
       "      <td>-0.237</td>\n",
       "      <td>-0.038</td>\n",
       "      <td>0.803</td>\n",
       "      <td>0.409</td>\n",
       "      <td>-0.009</td>\n",
       "      <td>0.798</td>\n",
       "      <td>-0.137</td>\n",
       "      <td>0.141</td>\n",
       "      <td>-0.206</td>\n",
       "      <td>0.502</td>\n",
       "      <td>0.219</td>\n",
       "      <td>0.215</td>\n",
       "      <td>69.99</td>\n",
       "      <td>0</td>\n",
       "    </tr>\n",
       "  </tbody>\n",
       "</table>\n",
       "</div>"
      ],
      "text/plain": [
       "   Time     V1     V2     V3     V4     V5     V6     V7     V8     V9    V10    V11    V12    V13    V14    V15    V16    V17    V18    V19    V20    V21    V22    V23    V24    V25    V26    V27    V28  Amount  Class\n",
       "0   0.0 -1.360 -0.073  2.536  1.378 -0.338  0.462  0.240  0.099  0.364  0.091 -0.552 -0.618 -0.991 -0.311  1.468 -0.470  0.208  0.026  0.404  0.251 -0.018  0.278 -0.110  0.067  0.129 -0.189  0.134 -0.021  149.62      0\n",
       "1   0.0  1.192  0.266  0.166  0.448  0.060 -0.082 -0.079  0.085 -0.255 -0.167  1.613  1.065  0.489 -0.144  0.636  0.464 -0.115 -0.183 -0.146 -0.069 -0.226 -0.639  0.101 -0.340  0.167  0.126 -0.009  0.015    2.69      0\n",
       "2   1.0 -1.358 -1.340  1.773  0.380 -0.503  1.800  0.791  0.248 -1.515  0.208  0.625  0.066  0.717 -0.166  2.346 -2.890  1.110 -0.121 -2.262  0.525  0.248  0.772  0.909 -0.689 -0.328 -0.139 -0.055 -0.060  378.66      0\n",
       "3   1.0 -0.966 -0.185  1.793 -0.863 -0.010  1.247  0.238  0.377 -1.387 -0.055 -0.226  0.178  0.508 -0.288 -0.631 -1.060 -0.684  1.966 -1.233 -0.208 -0.108  0.005 -0.190 -1.176  0.647 -0.222  0.063  0.061  123.50      0\n",
       "4   2.0 -1.158  0.878  1.549  0.403 -0.407  0.096  0.593 -0.271  0.818  0.753 -0.823  0.538  1.346 -1.120  0.175 -0.451 -0.237 -0.038  0.803  0.409 -0.009  0.798 -0.137  0.141 -0.206  0.502  0.219  0.215   69.99      0"
      ]
     },
     "execution_count": 4,
     "metadata": {},
     "output_type": "execute_result"
    }
   ],
   "source": [
    "data.head()"
   ]
  },
  {
   "cell_type": "code",
   "execution_count": 5,
   "id": "1241234c50e27a17",
   "metadata": {
    "ExecuteTime": {
     "end_time": "2024-05-18T15:12:21.542534Z",
     "start_time": "2024-05-18T15:12:21.342004Z"
    },
    "scrolled": true
   },
   "outputs": [
    {
     "name": "stdout",
     "output_type": "stream",
     "text": [
      "##################### Shape #####################\n",
      "(284807, 31)\n",
      "##################### Info #####################\n",
      "<class 'pandas.core.frame.DataFrame'>\n",
      "RangeIndex: 284807 entries, 0 to 284806\n",
      "Data columns (total 31 columns):\n",
      " #   Column  Non-Null Count   Dtype  \n",
      "---  ------  --------------   -----  \n",
      " 0   Time    284807 non-null  float64\n",
      " 1   V1      284807 non-null  float64\n",
      " 2   V2      284807 non-null  float64\n",
      " 3   V3      284807 non-null  float64\n",
      " 4   V4      284807 non-null  float64\n",
      " 5   V5      284807 non-null  float64\n",
      " 6   V6      284807 non-null  float64\n",
      " 7   V7      284807 non-null  float64\n",
      " 8   V8      284807 non-null  float64\n",
      " 9   V9      284807 non-null  float64\n",
      " 10  V10     284807 non-null  float64\n",
      " 11  V11     284807 non-null  float64\n",
      " 12  V12     284807 non-null  float64\n",
      " 13  V13     284807 non-null  float64\n",
      " 14  V14     284807 non-null  float64\n",
      " 15  V15     284807 non-null  float64\n",
      " 16  V16     284807 non-null  float64\n",
      " 17  V17     284807 non-null  float64\n",
      " 18  V18     284807 non-null  float64\n",
      " 19  V19     284807 non-null  float64\n",
      " 20  V20     284807 non-null  float64\n",
      " 21  V21     284807 non-null  float64\n",
      " 22  V22     284807 non-null  float64\n",
      " 23  V23     284807 non-null  float64\n",
      " 24  V24     284807 non-null  float64\n",
      " 25  V25     284807 non-null  float64\n",
      " 26  V26     284807 non-null  float64\n",
      " 27  V27     284807 non-null  float64\n",
      " 28  V28     284807 non-null  float64\n",
      " 29  Amount  284807 non-null  float64\n",
      " 30  Class   284807 non-null  int64  \n",
      "dtypes: float64(30), int64(1)\n",
      "memory usage: 67.4 MB\n",
      "None\n",
      "##################### NULL VALUES #####################\n",
      "Time      0\n",
      "V1        0\n",
      "V2        0\n",
      "V3        0\n",
      "V4        0\n",
      "V5        0\n",
      "V6        0\n",
      "V7        0\n",
      "V8        0\n",
      "V9        0\n",
      "V10       0\n",
      "V11       0\n",
      "V12       0\n",
      "V13       0\n",
      "V14       0\n",
      "V15       0\n",
      "V16       0\n",
      "V17       0\n",
      "V18       0\n",
      "V19       0\n",
      "V20       0\n",
      "V21       0\n",
      "V22       0\n",
      "V23       0\n",
      "V24       0\n",
      "V25       0\n",
      "V26       0\n",
      "V27       0\n",
      "V28       0\n",
      "Amount    0\n",
      "Class     0\n",
      "dtype: int64\n",
      "##################### Describe #####################\n",
      "           count       mean        std      min        25%        50%         75%         max\n",
      "Time    284807.0  9.481e+04  47488.146    0.000  54201.500  84692.000  139320.500  172792.000\n",
      "V1      284807.0  1.168e-15      1.959  -56.408     -0.920      0.018       1.316       2.455\n",
      "V2      284807.0  3.417e-16      1.651  -72.716     -0.599      0.065       0.804      22.058\n",
      "V3      284807.0 -1.380e-15      1.516  -48.326     -0.890      0.180       1.027       9.383\n",
      "V4      284807.0  2.074e-15      1.416   -5.683     -0.849     -0.020       0.743      16.875\n",
      "V5      284807.0  9.604e-16      1.380 -113.743     -0.692     -0.054       0.612      34.802\n",
      "V6      284807.0  1.487e-15      1.332  -26.161     -0.768     -0.274       0.399      73.302\n",
      "V7      284807.0 -5.556e-16      1.237  -43.557     -0.554      0.040       0.570     120.589\n",
      "V8      284807.0  1.213e-16      1.194  -73.217     -0.209      0.022       0.327      20.007\n",
      "V9      284807.0 -2.406e-15      1.099  -13.434     -0.643     -0.051       0.597      15.595\n",
      "V10     284807.0  2.239e-15      1.089  -24.588     -0.535     -0.093       0.454      23.745\n",
      "V11     284807.0  1.673e-15      1.021   -4.797     -0.762     -0.033       0.740      12.019\n",
      "V12     284807.0 -1.247e-15      0.999  -18.684     -0.406      0.140       0.618       7.848\n",
      "V13     284807.0  8.190e-16      0.995   -5.792     -0.649     -0.014       0.663       7.127\n",
      "V14     284807.0  1.207e-15      0.959  -19.214     -0.426      0.051       0.493      10.527\n",
      "V15     284807.0  4.887e-15      0.915   -4.499     -0.583      0.048       0.649       8.878\n",
      "V16     284807.0  1.438e-15      0.876  -14.130     -0.468      0.066       0.523      17.315\n",
      "V17     284807.0 -3.772e-16      0.849  -25.163     -0.484     -0.066       0.400       9.254\n",
      "V18     284807.0  9.564e-16      0.838   -9.499     -0.499     -0.004       0.501       5.041\n",
      "V19     284807.0  1.040e-15      0.814   -7.214     -0.456      0.004       0.459       5.592\n",
      "V20     284807.0  6.406e-16      0.771  -54.498     -0.212     -0.062       0.133      39.421\n",
      "V21     284807.0  1.654e-16      0.735  -34.830     -0.228     -0.029       0.186      27.203\n",
      "V22     284807.0 -3.569e-16      0.726  -10.933     -0.542      0.007       0.529      10.503\n",
      "V23     284807.0  2.579e-16      0.624  -44.808     -0.162     -0.011       0.148      22.528\n",
      "V24     284807.0  4.473e-15      0.606   -2.837     -0.355      0.041       0.440       4.585\n",
      "V25     284807.0  5.341e-16      0.521  -10.295     -0.317      0.017       0.351       7.520\n",
      "V26     284807.0  1.683e-15      0.482   -2.605     -0.327     -0.052       0.241       3.517\n",
      "V27     284807.0 -3.660e-16      0.404  -22.566     -0.071      0.001       0.091      31.612\n",
      "V28     284807.0 -1.227e-16      0.330  -15.430     -0.053      0.011       0.078      33.848\n",
      "Amount  284807.0  8.835e+01    250.120    0.000      5.600     22.000      77.165   25691.160\n",
      "Class   284807.0  1.727e-03      0.042    0.000      0.000      0.000       0.000       1.000\n"
     ]
    }
   ],
   "source": [
    "dataset_summary(data)"
   ]
  },
  {
   "cell_type": "code",
   "execution_count": 6,
   "id": "c84d1357766a0da4",
   "metadata": {
    "ExecuteTime": {
     "end_time": "2024-05-18T15:12:21.949918Z",
     "start_time": "2024-05-18T15:12:21.543531Z"
    }
   },
   "outputs": [
    {
     "data": {
      "text/plain": [
       "1081"
      ]
     },
     "execution_count": 6,
     "metadata": {},
     "output_type": "execute_result"
    }
   ],
   "source": [
    "data.duplicated().sum()"
   ]
  },
  {
   "cell_type": "code",
   "execution_count": 7,
   "id": "8f9bed9a3042206a",
   "metadata": {
    "ExecuteTime": {
     "end_time": "2024-05-18T15:12:22.387958Z",
     "start_time": "2024-05-18T15:12:21.949918Z"
    }
   },
   "outputs": [
    {
     "data": {
      "text/html": [
       "<div>\n",
       "<style scoped>\n",
       "    .dataframe tbody tr th:only-of-type {\n",
       "        vertical-align: middle;\n",
       "    }\n",
       "\n",
       "    .dataframe tbody tr th {\n",
       "        vertical-align: top;\n",
       "    }\n",
       "\n",
       "    .dataframe thead th {\n",
       "        text-align: right;\n",
       "    }\n",
       "</style>\n",
       "<table border=\"1\" class=\"dataframe\">\n",
       "  <thead>\n",
       "    <tr style=\"text-align: right;\">\n",
       "      <th></th>\n",
       "      <th>Time</th>\n",
       "      <th>V1</th>\n",
       "      <th>V2</th>\n",
       "      <th>V3</th>\n",
       "      <th>V4</th>\n",
       "      <th>V5</th>\n",
       "      <th>V6</th>\n",
       "      <th>V7</th>\n",
       "      <th>V8</th>\n",
       "      <th>V9</th>\n",
       "      <th>V10</th>\n",
       "      <th>V11</th>\n",
       "      <th>V12</th>\n",
       "      <th>V13</th>\n",
       "      <th>V14</th>\n",
       "      <th>V15</th>\n",
       "      <th>V16</th>\n",
       "      <th>V17</th>\n",
       "      <th>V18</th>\n",
       "      <th>V19</th>\n",
       "      <th>V20</th>\n",
       "      <th>V21</th>\n",
       "      <th>V22</th>\n",
       "      <th>V23</th>\n",
       "      <th>V24</th>\n",
       "      <th>V25</th>\n",
       "      <th>V26</th>\n",
       "      <th>V27</th>\n",
       "      <th>V28</th>\n",
       "      <th>Amount</th>\n",
       "      <th>Class</th>\n",
       "    </tr>\n",
       "  </thead>\n",
       "  <tbody>\n",
       "    <tr>\n",
       "      <th>32</th>\n",
       "      <td>26.0</td>\n",
       "      <td>-0.530</td>\n",
       "      <td>0.874</td>\n",
       "      <td>1.347</td>\n",
       "      <td>0.145</td>\n",
       "      <td>0.414</td>\n",
       "      <td>0.100</td>\n",
       "      <td>0.711</td>\n",
       "      <td>0.176</td>\n",
       "      <td>-0.287</td>\n",
       "      <td>-0.485</td>\n",
       "      <td>0.872</td>\n",
       "      <td>0.852</td>\n",
       "      <td>-0.572</td>\n",
       "      <td>0.101</td>\n",
       "      <td>-1.520</td>\n",
       "      <td>-0.284</td>\n",
       "      <td>-0.311</td>\n",
       "      <td>-0.404</td>\n",
       "      <td>-0.823</td>\n",
       "      <td>-0.290</td>\n",
       "      <td>0.047</td>\n",
       "      <td>0.208</td>\n",
       "      <td>-0.186</td>\n",
       "      <td>1.031e-03</td>\n",
       "      <td>0.099</td>\n",
       "      <td>-0.553</td>\n",
       "      <td>-0.073</td>\n",
       "      <td>0.023</td>\n",
       "      <td>6.14</td>\n",
       "      <td>0</td>\n",
       "    </tr>\n",
       "    <tr>\n",
       "      <th>33</th>\n",
       "      <td>26.0</td>\n",
       "      <td>-0.530</td>\n",
       "      <td>0.874</td>\n",
       "      <td>1.347</td>\n",
       "      <td>0.145</td>\n",
       "      <td>0.414</td>\n",
       "      <td>0.100</td>\n",
       "      <td>0.711</td>\n",
       "      <td>0.176</td>\n",
       "      <td>-0.287</td>\n",
       "      <td>-0.485</td>\n",
       "      <td>0.872</td>\n",
       "      <td>0.852</td>\n",
       "      <td>-0.572</td>\n",
       "      <td>0.101</td>\n",
       "      <td>-1.520</td>\n",
       "      <td>-0.284</td>\n",
       "      <td>-0.311</td>\n",
       "      <td>-0.404</td>\n",
       "      <td>-0.823</td>\n",
       "      <td>-0.290</td>\n",
       "      <td>0.047</td>\n",
       "      <td>0.208</td>\n",
       "      <td>-0.186</td>\n",
       "      <td>1.031e-03</td>\n",
       "      <td>0.099</td>\n",
       "      <td>-0.553</td>\n",
       "      <td>-0.073</td>\n",
       "      <td>0.023</td>\n",
       "      <td>6.14</td>\n",
       "      <td>0</td>\n",
       "    </tr>\n",
       "    <tr>\n",
       "      <th>34</th>\n",
       "      <td>26.0</td>\n",
       "      <td>-0.535</td>\n",
       "      <td>0.865</td>\n",
       "      <td>1.351</td>\n",
       "      <td>0.148</td>\n",
       "      <td>0.434</td>\n",
       "      <td>0.087</td>\n",
       "      <td>0.693</td>\n",
       "      <td>0.180</td>\n",
       "      <td>-0.286</td>\n",
       "      <td>-0.482</td>\n",
       "      <td>0.872</td>\n",
       "      <td>0.853</td>\n",
       "      <td>-0.572</td>\n",
       "      <td>0.102</td>\n",
       "      <td>-1.520</td>\n",
       "      <td>-0.286</td>\n",
       "      <td>-0.310</td>\n",
       "      <td>-0.404</td>\n",
       "      <td>-0.824</td>\n",
       "      <td>-0.283</td>\n",
       "      <td>0.050</td>\n",
       "      <td>0.207</td>\n",
       "      <td>-0.187</td>\n",
       "      <td>7.530e-04</td>\n",
       "      <td>0.098</td>\n",
       "      <td>-0.553</td>\n",
       "      <td>-0.078</td>\n",
       "      <td>0.025</td>\n",
       "      <td>1.77</td>\n",
       "      <td>0</td>\n",
       "    </tr>\n",
       "    <tr>\n",
       "      <th>35</th>\n",
       "      <td>26.0</td>\n",
       "      <td>-0.535</td>\n",
       "      <td>0.865</td>\n",
       "      <td>1.351</td>\n",
       "      <td>0.148</td>\n",
       "      <td>0.434</td>\n",
       "      <td>0.087</td>\n",
       "      <td>0.693</td>\n",
       "      <td>0.180</td>\n",
       "      <td>-0.286</td>\n",
       "      <td>-0.482</td>\n",
       "      <td>0.872</td>\n",
       "      <td>0.853</td>\n",
       "      <td>-0.572</td>\n",
       "      <td>0.102</td>\n",
       "      <td>-1.520</td>\n",
       "      <td>-0.286</td>\n",
       "      <td>-0.310</td>\n",
       "      <td>-0.404</td>\n",
       "      <td>-0.824</td>\n",
       "      <td>-0.283</td>\n",
       "      <td>0.050</td>\n",
       "      <td>0.207</td>\n",
       "      <td>-0.187</td>\n",
       "      <td>7.530e-04</td>\n",
       "      <td>0.098</td>\n",
       "      <td>-0.553</td>\n",
       "      <td>-0.078</td>\n",
       "      <td>0.025</td>\n",
       "      <td>1.77</td>\n",
       "      <td>0</td>\n",
       "    </tr>\n",
       "    <tr>\n",
       "      <th>112</th>\n",
       "      <td>74.0</td>\n",
       "      <td>1.038</td>\n",
       "      <td>0.127</td>\n",
       "      <td>0.184</td>\n",
       "      <td>1.110</td>\n",
       "      <td>0.442</td>\n",
       "      <td>0.945</td>\n",
       "      <td>-0.037</td>\n",
       "      <td>0.351</td>\n",
       "      <td>0.119</td>\n",
       "      <td>-0.243</td>\n",
       "      <td>0.578</td>\n",
       "      <td>0.675</td>\n",
       "      <td>-0.534</td>\n",
       "      <td>0.447</td>\n",
       "      <td>1.123</td>\n",
       "      <td>-1.768</td>\n",
       "      <td>1.241</td>\n",
       "      <td>-2.449</td>\n",
       "      <td>-1.747</td>\n",
       "      <td>-0.336</td>\n",
       "      <td>0.103</td>\n",
       "      <td>0.605</td>\n",
       "      <td>0.023</td>\n",
       "      <td>-6.265e-01</td>\n",
       "      <td>0.479</td>\n",
       "      <td>-0.167</td>\n",
       "      <td>0.081</td>\n",
       "      <td>0.001</td>\n",
       "      <td>1.18</td>\n",
       "      <td>0</td>\n",
       "    </tr>\n",
       "    <tr>\n",
       "      <th>...</th>\n",
       "      <td>...</td>\n",
       "      <td>...</td>\n",
       "      <td>...</td>\n",
       "      <td>...</td>\n",
       "      <td>...</td>\n",
       "      <td>...</td>\n",
       "      <td>...</td>\n",
       "      <td>...</td>\n",
       "      <td>...</td>\n",
       "      <td>...</td>\n",
       "      <td>...</td>\n",
       "      <td>...</td>\n",
       "      <td>...</td>\n",
       "      <td>...</td>\n",
       "      <td>...</td>\n",
       "      <td>...</td>\n",
       "      <td>...</td>\n",
       "      <td>...</td>\n",
       "      <td>...</td>\n",
       "      <td>...</td>\n",
       "      <td>...</td>\n",
       "      <td>...</td>\n",
       "      <td>...</td>\n",
       "      <td>...</td>\n",
       "      <td>...</td>\n",
       "      <td>...</td>\n",
       "      <td>...</td>\n",
       "      <td>...</td>\n",
       "      <td>...</td>\n",
       "      <td>...</td>\n",
       "      <td>...</td>\n",
       "    </tr>\n",
       "    <tr>\n",
       "      <th>283485</th>\n",
       "      <td>171627.0</td>\n",
       "      <td>-1.458</td>\n",
       "      <td>1.378</td>\n",
       "      <td>0.812</td>\n",
       "      <td>-0.604</td>\n",
       "      <td>-0.712</td>\n",
       "      <td>-0.472</td>\n",
       "      <td>-0.283</td>\n",
       "      <td>0.881</td>\n",
       "      <td>0.053</td>\n",
       "      <td>-0.831</td>\n",
       "      <td>-1.192</td>\n",
       "      <td>0.943</td>\n",
       "      <td>1.373</td>\n",
       "      <td>-0.038</td>\n",
       "      <td>-0.208</td>\n",
       "      <td>0.322</td>\n",
       "      <td>-0.206</td>\n",
       "      <td>-0.025</td>\n",
       "      <td>-0.468</td>\n",
       "      <td>0.024</td>\n",
       "      <td>0.284</td>\n",
       "      <td>0.950</td>\n",
       "      <td>-0.217</td>\n",
       "      <td>8.325e-02</td>\n",
       "      <td>0.045</td>\n",
       "      <td>0.640</td>\n",
       "      <td>0.219</td>\n",
       "      <td>0.117</td>\n",
       "      <td>11.93</td>\n",
       "      <td>0</td>\n",
       "    </tr>\n",
       "    <tr>\n",
       "      <th>284190</th>\n",
       "      <td>172233.0</td>\n",
       "      <td>-2.668</td>\n",
       "      <td>3.161</td>\n",
       "      <td>-3.356</td>\n",
       "      <td>1.008</td>\n",
       "      <td>-0.377</td>\n",
       "      <td>-0.110</td>\n",
       "      <td>-0.667</td>\n",
       "      <td>2.310</td>\n",
       "      <td>-1.639</td>\n",
       "      <td>-1.450</td>\n",
       "      <td>-0.509</td>\n",
       "      <td>0.600</td>\n",
       "      <td>-0.627</td>\n",
       "      <td>1.017</td>\n",
       "      <td>-0.887</td>\n",
       "      <td>0.420</td>\n",
       "      <td>1.856</td>\n",
       "      <td>1.315</td>\n",
       "      <td>1.096</td>\n",
       "      <td>-0.822</td>\n",
       "      <td>0.391</td>\n",
       "      <td>0.267</td>\n",
       "      <td>-0.080</td>\n",
       "      <td>-9.640e-02</td>\n",
       "      <td>0.087</td>\n",
       "      <td>-0.451</td>\n",
       "      <td>-1.184</td>\n",
       "      <td>-0.222</td>\n",
       "      <td>55.66</td>\n",
       "      <td>0</td>\n",
       "    </tr>\n",
       "    <tr>\n",
       "      <th>284191</th>\n",
       "      <td>172233.0</td>\n",
       "      <td>-2.668</td>\n",
       "      <td>3.161</td>\n",
       "      <td>-3.356</td>\n",
       "      <td>1.008</td>\n",
       "      <td>-0.377</td>\n",
       "      <td>-0.110</td>\n",
       "      <td>-0.667</td>\n",
       "      <td>2.310</td>\n",
       "      <td>-1.639</td>\n",
       "      <td>-1.450</td>\n",
       "      <td>-0.509</td>\n",
       "      <td>0.600</td>\n",
       "      <td>-0.627</td>\n",
       "      <td>1.017</td>\n",
       "      <td>-0.887</td>\n",
       "      <td>0.420</td>\n",
       "      <td>1.856</td>\n",
       "      <td>1.315</td>\n",
       "      <td>1.096</td>\n",
       "      <td>-0.822</td>\n",
       "      <td>0.391</td>\n",
       "      <td>0.267</td>\n",
       "      <td>-0.080</td>\n",
       "      <td>-9.640e-02</td>\n",
       "      <td>0.087</td>\n",
       "      <td>-0.451</td>\n",
       "      <td>-1.184</td>\n",
       "      <td>-0.222</td>\n",
       "      <td>55.66</td>\n",
       "      <td>0</td>\n",
       "    </tr>\n",
       "    <tr>\n",
       "      <th>284192</th>\n",
       "      <td>172233.0</td>\n",
       "      <td>-2.692</td>\n",
       "      <td>3.123</td>\n",
       "      <td>-3.339</td>\n",
       "      <td>1.017</td>\n",
       "      <td>-0.293</td>\n",
       "      <td>-0.167</td>\n",
       "      <td>-0.746</td>\n",
       "      <td>2.326</td>\n",
       "      <td>-1.635</td>\n",
       "      <td>-1.440</td>\n",
       "      <td>-0.512</td>\n",
       "      <td>0.608</td>\n",
       "      <td>-0.628</td>\n",
       "      <td>1.023</td>\n",
       "      <td>-0.888</td>\n",
       "      <td>0.413</td>\n",
       "      <td>1.860</td>\n",
       "      <td>1.317</td>\n",
       "      <td>1.095</td>\n",
       "      <td>-0.791</td>\n",
       "      <td>0.403</td>\n",
       "      <td>0.260</td>\n",
       "      <td>-0.087</td>\n",
       "      <td>-9.760e-02</td>\n",
       "      <td>0.084</td>\n",
       "      <td>-0.454</td>\n",
       "      <td>-1.205</td>\n",
       "      <td>-0.213</td>\n",
       "      <td>36.74</td>\n",
       "      <td>0</td>\n",
       "    </tr>\n",
       "    <tr>\n",
       "      <th>284193</th>\n",
       "      <td>172233.0</td>\n",
       "      <td>-2.692</td>\n",
       "      <td>3.123</td>\n",
       "      <td>-3.339</td>\n",
       "      <td>1.017</td>\n",
       "      <td>-0.293</td>\n",
       "      <td>-0.167</td>\n",
       "      <td>-0.746</td>\n",
       "      <td>2.326</td>\n",
       "      <td>-1.635</td>\n",
       "      <td>-1.440</td>\n",
       "      <td>-0.512</td>\n",
       "      <td>0.608</td>\n",
       "      <td>-0.628</td>\n",
       "      <td>1.023</td>\n",
       "      <td>-0.888</td>\n",
       "      <td>0.413</td>\n",
       "      <td>1.860</td>\n",
       "      <td>1.317</td>\n",
       "      <td>1.095</td>\n",
       "      <td>-0.791</td>\n",
       "      <td>0.403</td>\n",
       "      <td>0.260</td>\n",
       "      <td>-0.087</td>\n",
       "      <td>-9.760e-02</td>\n",
       "      <td>0.084</td>\n",
       "      <td>-0.454</td>\n",
       "      <td>-1.205</td>\n",
       "      <td>-0.213</td>\n",
       "      <td>36.74</td>\n",
       "      <td>0</td>\n",
       "    </tr>\n",
       "  </tbody>\n",
       "</table>\n",
       "<p>1854 rows × 31 columns</p>\n",
       "</div>"
      ],
      "text/plain": [
       "            Time     V1     V2     V3     V4     V5     V6     V7     V8     V9    V10    V11    V12    V13    V14    V15    V16    V17    V18    V19    V20    V21    V22    V23        V24    V25    V26    V27    V28  Amount  Class\n",
       "32          26.0 -0.530  0.874  1.347  0.145  0.414  0.100  0.711  0.176 -0.287 -0.485  0.872  0.852 -0.572  0.101 -1.520 -0.284 -0.311 -0.404 -0.823 -0.290  0.047  0.208 -0.186  1.031e-03  0.099 -0.553 -0.073  0.023    6.14      0\n",
       "33          26.0 -0.530  0.874  1.347  0.145  0.414  0.100  0.711  0.176 -0.287 -0.485  0.872  0.852 -0.572  0.101 -1.520 -0.284 -0.311 -0.404 -0.823 -0.290  0.047  0.208 -0.186  1.031e-03  0.099 -0.553 -0.073  0.023    6.14      0\n",
       "34          26.0 -0.535  0.865  1.351  0.148  0.434  0.087  0.693  0.180 -0.286 -0.482  0.872  0.853 -0.572  0.102 -1.520 -0.286 -0.310 -0.404 -0.824 -0.283  0.050  0.207 -0.187  7.530e-04  0.098 -0.553 -0.078  0.025    1.77      0\n",
       "35          26.0 -0.535  0.865  1.351  0.148  0.434  0.087  0.693  0.180 -0.286 -0.482  0.872  0.853 -0.572  0.102 -1.520 -0.286 -0.310 -0.404 -0.824 -0.283  0.050  0.207 -0.187  7.530e-04  0.098 -0.553 -0.078  0.025    1.77      0\n",
       "112         74.0  1.038  0.127  0.184  1.110  0.442  0.945 -0.037  0.351  0.119 -0.243  0.578  0.675 -0.534  0.447  1.123 -1.768  1.241 -2.449 -1.747 -0.336  0.103  0.605  0.023 -6.265e-01  0.479 -0.167  0.081  0.001    1.18      0\n",
       "...          ...    ...    ...    ...    ...    ...    ...    ...    ...    ...    ...    ...    ...    ...    ...    ...    ...    ...    ...    ...    ...    ...    ...    ...        ...    ...    ...    ...    ...     ...    ...\n",
       "283485  171627.0 -1.458  1.378  0.812 -0.604 -0.712 -0.472 -0.283  0.881  0.053 -0.831 -1.192  0.943  1.373 -0.038 -0.208  0.322 -0.206 -0.025 -0.468  0.024  0.284  0.950 -0.217  8.325e-02  0.045  0.640  0.219  0.117   11.93      0\n",
       "284190  172233.0 -2.668  3.161 -3.356  1.008 -0.377 -0.110 -0.667  2.310 -1.639 -1.450 -0.509  0.600 -0.627  1.017 -0.887  0.420  1.856  1.315  1.096 -0.822  0.391  0.267 -0.080 -9.640e-02  0.087 -0.451 -1.184 -0.222   55.66      0\n",
       "284191  172233.0 -2.668  3.161 -3.356  1.008 -0.377 -0.110 -0.667  2.310 -1.639 -1.450 -0.509  0.600 -0.627  1.017 -0.887  0.420  1.856  1.315  1.096 -0.822  0.391  0.267 -0.080 -9.640e-02  0.087 -0.451 -1.184 -0.222   55.66      0\n",
       "284192  172233.0 -2.692  3.123 -3.339  1.017 -0.293 -0.167 -0.746  2.326 -1.635 -1.440 -0.512  0.608 -0.628  1.023 -0.888  0.413  1.860  1.317  1.095 -0.791  0.403  0.260 -0.087 -9.760e-02  0.084 -0.454 -1.205 -0.213   36.74      0\n",
       "284193  172233.0 -2.692  3.123 -3.339  1.017 -0.293 -0.167 -0.746  2.326 -1.635 -1.440 -0.512  0.608 -0.628  1.023 -0.888  0.413  1.860  1.317  1.095 -0.791  0.403  0.260 -0.087 -9.760e-02  0.084 -0.454 -1.205 -0.213   36.74      0\n",
       "\n",
       "[1854 rows x 31 columns]"
      ]
     },
     "execution_count": 7,
     "metadata": {},
     "output_type": "execute_result"
    }
   ],
   "source": [
    "data.loc[data.duplicated(keep=False), :]"
   ]
  },
  {
   "cell_type": "code",
   "execution_count": 8,
   "id": "8457ff4dab965aa9",
   "metadata": {
    "ExecuteTime": {
     "end_time": "2024-05-18T15:12:22.796414Z",
     "start_time": "2024-05-18T15:12:22.388955Z"
    }
   },
   "outputs": [],
   "source": [
    "data.drop_duplicates(inplace=True)"
   ]
  },
  {
   "cell_type": "markdown",
   "id": "b4c157f6a4e3f16e",
   "metadata": {},
   "source": [
    "# EDA & Visualizations"
   ]
  },
  {
   "cell_type": "code",
   "execution_count": 9,
   "id": "aab5a73e3c3b893",
   "metadata": {
    "ExecuteTime": {
     "end_time": "2024-05-18T15:12:22.812360Z",
     "start_time": "2024-05-18T15:12:22.797409Z"
    }
   },
   "outputs": [
    {
     "name": "stdout",
     "output_type": "stream",
     "text": [
      "        Class   Ratio\n",
      "Class                \n",
      "0      283253  99.833\n",
      "1         473   0.167\n"
     ]
    }
   ],
   "source": [
    "cat_summary(data,\"Class\")"
   ]
  },
  {
   "cell_type": "code",
   "execution_count": 10,
   "id": "afa819704d9a3736",
   "metadata": {
    "ExecuteTime": {
     "end_time": "2024-05-18T15:12:22.889640Z",
     "start_time": "2024-05-18T15:12:22.813358Z"
    }
   },
   "outputs": [
    {
     "data": {
      "image/png": "[encoded data removed]",
      "text/plain": [
       "<Figure size 1000x600 with 1 Axes>"
      ]
     },
     "metadata": {},
     "output_type": "display_data"
    }
   ],
   "source": [
    "temp = data['Class'].value_counts()\n",
    "explode = (0.5, 0)\n",
    "plt.pie(temp, labels=temp.index, autopct='%1.2f%%', explode=explode, startangle=40)\n",
    "plt.title(\"Percantages of Transactions\");"
   ]
  },
  {
   "cell_type": "markdown",
   "id": "9ce1e68d3fe02f4",
   "metadata": {},
   "source": [
    "*as you can see, dataset is highly inbalanced*"
   ]
  },
  {
   "cell_type": "code",
   "execution_count": 11,
   "id": "dc5a6e50b284a715",
   "metadata": {
    "ExecuteTime": {
     "end_time": "2024-05-18T15:12:23.670601Z",
     "start_time": "2024-05-18T15:12:22.889640Z"
    }
   },
   "outputs": [
    {
     "data": {
      "image/png": "[encoded data removed]",
      "text/plain": [
       "<Figure size 557.75x500 with 1 Axes>"
      ]
     },
     "metadata": {},
     "output_type": "display_data"
    }
   ],
   "source": [
    "sns.displot(data=data, x=\"Time\", kde=True, hue=\"Class\");\n",
    "plt.title(\"Distribution of Transaction Times Among Fraud Status\");"
   ]
  },
  {
   "cell_type": "code",
   "execution_count": 12,
   "id": "95492e17df7f3ac5",
   "metadata": {
    "ExecuteTime": {
     "end_time": "2024-05-18T15:12:24.967303Z",
     "start_time": "2024-05-18T15:12:23.671598Z"
    }
   },
   "outputs": [
    {
     "data": {
      "text/plain": [
       "(0.0, 25691.16)"
      ]
     },
     "execution_count": 12,
     "metadata": {},
     "output_type": "execute_result"
    },
    {
     "data": {
      "image/png": "[encoded data removed]",
      "text/plain": [
       "<Figure size 1000x600 with 1 Axes>"
      ]
     },
     "metadata": {},
     "output_type": "display_data"
    }
   ],
   "source": [
    "amount_val = data[\"Amount\"].values\n",
    "sns.distplot(amount_val)\n",
    "plt.xlim([data[\"Amount\"].min(), data[\"Amount\"].max()])"
   ]
  },
  {
   "cell_type": "markdown",
   "id": "7e80ff083e100aa4",
   "metadata": {},
   "source": [
    "*since we dont have any info or domain knowledge about anonimized columns, there's no chance to do feature engineering, so i'm directly moving to preprocessing stage*"
   ]
  },
  {
   "cell_type": "markdown",
   "id": "248ffcd94afa6a88",
   "metadata": {},
   "source": [
    "# Preprocessing"
   ]
  },
  {
   "cell_type": "code",
   "execution_count": 13,
   "id": "428c68f0c6b5c966",
   "metadata": {
    "ExecuteTime": {
     "end_time": "2024-05-18T15:12:24.983044Z",
     "start_time": "2024-05-18T15:12:24.968300Z"
    }
   },
   "outputs": [],
   "source": [
    "scaler = RobustScaler()"
   ]
  },
  {
   "cell_type": "markdown",
   "id": "93678fe74afd33d8",
   "metadata": {},
   "source": [
    "*i've decided to use RobustScaler because it is less prone to outliers*\n",
    " \n",
    "*Note: Scaling PCA features is not necessary, because they're already scaled as you can see in first obs. section *"
   ]
  },
  {
   "cell_type": "code",
   "execution_count": 14,
   "id": "1b63c873bc33b55d",
   "metadata": {
    "ExecuteTime": {
     "end_time": "2024-05-18T15:12:24.998991Z",
     "start_time": "2024-05-18T15:12:24.983044Z"
    }
   },
   "outputs": [],
   "source": [
    "data[\"Time\"] = scaler.fit_transform(data[\"Time\"].values.reshape(-1, 1)) # scalers expects 2-d data\n",
    "data[\"Amount\"] = scaler.fit_transform(data[\"Amount\"].values.reshape(-1, 1))"
   ]
  },
  {
   "cell_type": "markdown",
   "id": "a10835aab2a93f51",
   "metadata": {},
   "source": [
    "## Splitting Dataset"
   ]
  },
  {
   "cell_type": "code",
   "execution_count": 15,
   "id": "9fa28b82967e0d3a",
   "metadata": {
    "ExecuteTime": {
     "end_time": "2024-05-18T15:12:25.014937Z",
     "start_time": "2024-05-18T15:12:24.998991Z"
    }
   },
   "outputs": [],
   "source": [
    "X = data.drop(\"Class\", axis=1)\n",
    "y = data[\"Class\"]"
   ]
  },
  {
   "cell_type": "code",
   "execution_count": 16,
   "id": "84a61f41e5744fdc",
   "metadata": {
    "ExecuteTime": {
     "end_time": "2024-05-18T15:12:25.107563Z",
     "start_time": "2024-05-18T15:12:25.014937Z"
    }
   },
   "outputs": [],
   "source": [
    "X_train, X_test, y_train, y_test = train_test_split(X, y, test_size=0.2, random_state=42,shuffle=True,stratify=y)"
   ]
  },
  {
   "cell_type": "code",
   "execution_count": 17,
   "id": "bc272b01738b525",
   "metadata": {
    "ExecuteTime": {
     "end_time": "2024-05-18T15:12:25.123091Z",
     "start_time": "2024-05-18T15:12:25.107563Z"
    }
   },
   "outputs": [
    {
     "data": {
      "text/plain": [
       "Class\n",
       "0    226602\n",
       "1       378\n",
       "Name: count, dtype: int64"
      ]
     },
     "execution_count": 17,
     "metadata": {},
     "output_type": "execute_result"
    }
   ],
   "source": [
    "y_train.value_counts()"
   ]
  },
  {
   "cell_type": "code",
   "execution_count": 18,
   "id": "744c2e0f7b96146a",
   "metadata": {
    "ExecuteTime": {
     "end_time": "2024-05-18T15:12:25.139262Z",
     "start_time": "2024-05-18T15:12:25.123091Z"
    }
   },
   "outputs": [
    {
     "data": {
      "text/plain": [
       "Class\n",
       "0    56651\n",
       "1       95\n",
       "Name: count, dtype: int64"
      ]
     },
     "execution_count": 18,
     "metadata": {},
     "output_type": "execute_result"
    }
   ],
   "source": [
    "y_test.value_counts()"
   ]
  },
  {
   "cell_type": "markdown",
   "id": "89c6b57dbf080dc3",
   "metadata": {},
   "source": [
    "*it's been stratified well, now i want to use undersampling for dealing imbalance*"
   ]
  },
  {
   "cell_type": "markdown",
   "id": "78fa794ea9ee3ac0",
   "metadata": {},
   "source": [
    "## Undersampling"
   ]
  },
  {
   "cell_type": "code",
   "execution_count": 19,
   "id": "5f687cdf8e2d26d4",
   "metadata": {
    "ExecuteTime": {
     "end_time": "2024-05-18T15:12:25.169165Z",
     "start_time": "2024-05-18T15:12:25.140260Z"
    }
   },
   "outputs": [],
   "source": [
    "rus = RandomUnderSampler(random_state=42)\n",
    "X_resampled, y_resampled = rus.fit_resample(X_train, y_train)    "
   ]
  },
  {
   "cell_type": "code",
   "execution_count": 20,
   "id": "e3b99407b28970c8",
   "metadata": {
    "ExecuteTime": {
     "end_time": "2024-05-18T15:12:25.184621Z",
     "start_time": "2024-05-18T15:12:25.170161Z"
    }
   },
   "outputs": [
    {
     "name": "stdout",
     "output_type": "stream",
     "text": [
      "Distrubition of class after undersampling: [378 378]\n"
     ]
    }
   ],
   "source": [
    "print(\"Distrubition of class after undersampling:\", np.bincount(y_resampled))"
   ]
  },
  {
   "cell_type": "markdown",
   "id": "d59382182f99087f",
   "metadata": {},
   "source": [
    "# Model Selection & Hyper-parameter Optimization"
   ]
  },
  {
   "cell_type": "code",
   "execution_count": 21,
   "id": "6e02cb804d2e31d4",
   "metadata": {
    "ExecuteTime": {
     "end_time": "2024-05-18T15:12:25.200568Z",
     "start_time": "2024-05-18T15:12:25.184621Z"
    }
   },
   "outputs": [],
   "source": [
    "mcc_scorer = make_scorer(matthews_corrcoef) #i'm using this for scoring metric because in this problem accuracy is not optimal performance metric"
   ]
  },
  {
   "cell_type": "code",
   "execution_count": 23,
   "id": "98659ec64958f408",
   "metadata": {
    "ExecuteTime": {
     "end_time": "2024-05-18T15:43:30.950749Z",
     "start_time": "2024-05-18T15:33:05.880617Z"
    }
   },
   "outputs": [
    {
     "name": "stdout",
     "output_type": "stream",
     "text": [
      "Hyperparameter Optimization....\n",
      "##########Logistic Regression##########\n",
      "MCC (Before): 0.866296068690179\n",
      "MCC (After): 0.8775894051593124\n",
      "Logistic Regression best params: {'C': 1, 'penalty': 'l2', 'solver': 'saga'}\n",
      "\n",
      "##########Decision Tree##########\n",
      "MCC (Before): 0.8283489772909072\n",
      "MCC (After): 0.8472423752429311\n",
      "Decision Tree best params: {'criterion': 'gini', 'max_depth': 3, 'min_samples_leaf': 4}\n",
      "\n",
      "##########Random Forest##########\n",
      "MCC (Before): 0.8711979859794126\n",
      "MCC (After): 0.8760765452036097\n",
      "Random Forest best params: {'max_depth': None, 'max_features': 7, 'min_samples_leaf': 1, 'n_estimators': 250}\n",
      "\n",
      "##########Gradient Boosting##########\n",
      "MCC (Before): 0.872185302914407\n",
      "MCC (After): 0.8750146391586838\n",
      "Gradient Boosting best params: {'learning_rate': 0.2, 'max_depth': 5, 'n_estimators': 250}\n",
      "\n",
      "##########Ada Boosting##########\n",
      "MCC (Before): 0.8586019788169444\n",
      "MCC (After): 0.8877344748915998\n",
      "Ada Boosting best params: {'algorithm': 'SAMME', 'estimator': None, 'learning_rate': 0.35000000000000003, 'n_estimators': 350}\n",
      "\n",
      "##########Bagging##########\n",
      "MCC (Before): 0.8618576275466541\n",
      "MCC (After): 0.8712582056117473\n",
      "Bagging best params: {'bootstrap': False, 'bootstrap_features': True, 'max_features': 0.75, 'max_samples': 0.6, 'n_estimators': 250}\n",
      "\n",
      "##########KNN##########\n",
      "MCC (Before): 0.8731762888363319\n",
      "MCC (After): 0.8834085101188778\n",
      "KNN best params: {'metric': 'manhattan', 'n_neighbors': 4, 'weights': 'uniform'}\n",
      "\n",
      "##########SVM##########\n",
      "MCC (Before): 0.8538695963750355\n",
      "MCC (After): 0.8705510954324385\n",
      "SVM best params: {'C': 10, 'gamma': 'scale', 'kernel': 'rbf'}\n",
      "\n",
      "##########XGBoost##########\n",
      "MCC (Before): 0.8827750006947204\n",
      "MCC (After): 0.8881934101042404\n",
      "XGBoost best params: {'eval_metric': 'logloss', 'learning_rate': 0.35000000000000003, 'max_depth': 2, 'n_estimators': 250, 'objective': 'binary:logistic', 'reg_alpha': 0.2, 'reg_lambda': 0.2, 'verbosity': 0}\n",
      "\n",
      "##########LightGBM##########\n",
      "MCC (Before): 0.883019502684341\n",
      "MCC (After): 0.8904336758159364\n",
      "LightGBM best params: {'learning_rate': 0.1, 'max_depth': 4, 'n_estimators': 400, 'verbose': -1}\n",
      "\n"
     ]
    }
   ],
   "source": [
    "best_models = hyperparameter_optimization(X=X_resampled, y=y_resampled,models=classifiers,cv=5,scoring=mcc_scorer)"
   ]
  },
  {
   "cell_type": "code",
   "execution_count": 24,
   "id": "b40daa1b533484ca",
   "metadata": {
    "ExecuteTime": {
     "end_time": "2024-05-18T15:43:51.206977Z",
     "start_time": "2024-05-18T15:43:51.050722Z"
    }
   },
   "outputs": [
    {
     "data": {
      "text/plain": [
       "Text(0, 0.5, 'MCC Score')"
      ]
     },
     "execution_count": 24,
     "metadata": {},
     "output_type": "execute_result"
    },
    {
     "data": {
      "image/png": "[encoded data removed]",
      "text/plain": [
       "<Figure size 1000x600 with 1 Axes>"
      ]
     },
     "metadata": {},
     "output_type": "display_data"
    }
   ],
   "source": [
    "df = pd.DataFrame(best_models).transpose()\n",
    "sns.barplot(data=df, x=\"MCC\", y=df.index, palette=\"viridis\")\n",
    "plt.title(\"Matthews Correlation Coefficient Scores After Hyperparameter Optimization\")\n",
    "plt.xlabel(\"Model\")\n",
    "plt.ylabel(\"MCC Score\")"
   ]
  },
  {
   "cell_type": "code",
   "execution_count": 29,
   "id": "a8e64f28c4077a06",
   "metadata": {
    "ExecuteTime": {
     "end_time": "2024-05-18T15:46:01.028084Z",
     "start_time": "2024-05-18T15:46:01.012137Z"
    }
   },
   "outputs": [],
   "source": [
    "top_models = sorted(best_models.values(), key=lambda x: x[\"MCC\"], reverse=True)[:5]\n",
    "voting_model = VotingClassifier(estimators=[\n",
    "    (\"1st\", top_models[0][\"Model\"]),\n",
    "    (\"2nd\", top_models[1][\"Model\"]),\n",
    "    (\"3rd\", top_models[2][\"Model\"]),\n",
    "    (\"4th\", top_models[3][\"Model\"]),\n",
    "    (\"5th\", top_models[4][\"Model\"]),\n",
    "], voting=\"soft\")"
   ]
  },
  {
   "cell_type": "code",
   "execution_count": 30,
   "id": "889b4070a4cf4ea4",
   "metadata": {
    "ExecuteTime": {
     "end_time": "2024-05-18T15:46:02.950274Z",
     "start_time": "2024-05-18T15:46:01.906174Z"
    }
   },
   "outputs": [
    {
     "data": {
      "text/html": [
       "<style>#sk-container-id-1 {\n",
       "  /* Definition of color scheme common for light and dark mode */\n",
       "  --sklearn-color-text: black;\n",
       "  --sklearn-color-line: gray;\n",
       "  /* Definition of color scheme for unfitted estimators */\n",
       "  --sklearn-color-unfitted-level-0: #fff5e6;\n",
       "  --sklearn-color-unfitted-level-1: #f6e4d2;\n",
       "  --sklearn-color-unfitted-level-2: #ffe0b3;\n",
       "  --sklearn-color-unfitted-level-3: chocolate;\n",
       "  /* Definition of color scheme for fitted estimators */\n",
       "  --sklearn-color-fitted-level-0: #f0f8ff;\n",
       "  --sklearn-color-fitted-level-1: #d4ebff;\n",
       "  --sklearn-color-fitted-level-2: #b3dbfd;\n",
       "  --sklearn-color-fitted-level-3: cornflowerblue;\n",
       "\n",
       "  /* Specific color for light theme */\n",
       "  --sklearn-color-text-on-default-background: var(--sg-text-color, var(--theme-code-foreground, var(--jp-content-font-color1, black)));\n",
       "  --sklearn-color-background: var(--sg-background-color, var(--theme-background, var(--jp-layout-color0, white)));\n",
       "  --sklearn-color-border-box: var(--sg-text-color, var(--theme-code-foreground, var(--jp-content-font-color1, black)));\n",
       "  --sklearn-color-icon: #696969;\n",
       "\n",
       "  @media (prefers-color-scheme: dark) {\n",
       "    /* Redefinition of color scheme for dark theme */\n",
       "    --sklearn-color-text-on-default-background: var(--sg-text-color, var(--theme-code-foreground, var(--jp-content-font-color1, white)));\n",
       "    --sklearn-color-background: var(--sg-background-color, var(--theme-background, var(--jp-layout-color0, #111)));\n",
       "    --sklearn-color-border-box: var(--sg-text-color, var(--theme-code-foreground, var(--jp-content-font-color1, white)));\n",
       "    --sklearn-color-icon: #878787;\n",
       "  }\n",
       "}\n",
       "\n",
       "#sk-container-id-1 {\n",
       "  color: var(--sklearn-color-text);\n",
       "}\n",
       "\n",
       "#sk-container-id-1 pre {\n",
       "  padding: 0;\n",
       "}\n",
       "\n",
       "#sk-container-id-1 input.sk-hidden--visually {\n",
       "  border: 0;\n",
       "  clip: rect(1px 1px 1px 1px);\n",
       "  clip: rect(1px, 1px, 1px, 1px);\n",
       "  height: 1px;\n",
       "  margin: -1px;\n",
       "  overflow: hidden;\n",
       "  padding: 0;\n",
       "  position: absolute;\n",
       "  width: 1px;\n",
       "}\n",
       "\n",
       "#sk-container-id-1 div.sk-dashed-wrapped {\n",
       "  border: 1px dashed var(--sklearn-color-line);\n",
       "  margin: 0 0.4em 0.5em 0.4em;\n",
       "  box-sizing: border-box;\n",
       "  padding-bottom: 0.4em;\n",
       "  background-color: var(--sklearn-color-background);\n",
       "}\n",
       "\n",
       "#sk-container-id-1 div.sk-container {\n",
       "  /* jupyter's `normalize.less` sets `[hidden] { display: none; }`\n",
       "     but bootstrap.min.css set `[hidden] { display: none !important; }`\n",
       "     so we also need the `!important` here to be able to override the\n",
       "     default hidden behavior on the sphinx rendered scikit-learn.org.\n",
       "     See: https://github.com/scikit-learn/scikit-learn/issues/21755 */\n",
       "  display: inline-block !important;\n",
       "  position: relative;\n",
       "}\n",
       "\n",
       "#sk-container-id-1 div.sk-text-repr-fallback {\n",
       "  display: none;\n",
       "}\n",
       "\n",
       "div.sk-parallel-item,\n",
       "div.sk-serial,\n",
       "div.sk-item {\n",
       "  /* draw centered vertical line to link estimators */\n",
       "  background-image: linear-gradient(var(--sklearn-color-text-on-default-background), var(--sklearn-color-text-on-default-background));\n",
       "  background-size: 2px 100%;\n",
       "  background-repeat: no-repeat;\n",
       "  background-position: center center;\n",
       "}\n",
       "\n",
       "/* Parallel-specific style estimator block */\n",
       "\n",
       "#sk-container-id-1 div.sk-parallel-item::after {\n",
       "  content: \"\";\n",
       "  width: 100%;\n",
       "  border-bottom: 2px solid var(--sklearn-color-text-on-default-background);\n",
       "  flex-grow: 1;\n",
       "}\n",
       "\n",
       "#sk-container-id-1 div.sk-parallel {\n",
       "  display: flex;\n",
       "  align-items: stretch;\n",
       "  justify-content: center;\n",
       "  background-color: var(--sklearn-color-background);\n",
       "  position: relative;\n",
       "}\n",
       "\n",
       "#sk-container-id-1 div.sk-parallel-item {\n",
       "  display: flex;\n",
       "  flex-direction: column;\n",
       "}\n",
       "\n",
       "#sk-container-id-1 div.sk-parallel-item:first-child::after {\n",
       "  align-self: flex-end;\n",
       "  width: 50%;\n",
       "}\n",
       "\n",
       "#sk-container-id-1 div.sk-parallel-item:last-child::after {\n",
       "  align-self: flex-start;\n",
       "  width: 50%;\n",
       "}\n",
       "\n",
       "#sk-container-id-1 div.sk-parallel-item:only-child::after {\n",
       "  width: 0;\n",
       "}\n",
       "\n",
       "/* Serial-specific style estimator block */\n",
       "\n",
       "#sk-container-id-1 div.sk-serial {\n",
       "  display: flex;\n",
       "  flex-direction: column;\n",
       "  align-items: center;\n",
       "  background-color: var(--sklearn-color-background);\n",
       "  padding-right: 1em;\n",
       "  padding-left: 1em;\n",
       "}\n",
       "\n",
       "\n",
       "/* Toggleable style: style used for estimator/Pipeline/ColumnTransformer box that is\n",
       "clickable and can be expanded/collapsed.\n",
       "- Pipeline and ColumnTransformer use this feature and define the default style\n",
       "- Estimators will overwrite some part of the style using the `sk-estimator` class\n",
       "*/\n",
       "\n",
       "/* Pipeline and ColumnTransformer style (default) */\n",
       "\n",
       "#sk-container-id-1 div.sk-toggleable {\n",
       "  /* Default theme specific background. It is overwritten whether we have a\n",
       "  specific estimator or a Pipeline/ColumnTransformer */\n",
       "  background-color: var(--sklearn-color-background);\n",
       "}\n",
       "\n",
       "/* Toggleable label */\n",
       "#sk-container-id-1 label.sk-toggleable__label {\n",
       "  cursor: pointer;\n",
       "  display: block;\n",
       "  width: 100%;\n",
       "  margin-bottom: 0;\n",
       "  padding: 0.5em;\n",
       "  box-sizing: border-box;\n",
       "  text-align: center;\n",
       "}\n",
       "\n",
       "#sk-container-id-1 label.sk-toggleable__label-arrow:before {\n",
       "  /* Arrow on the left of the label */\n",
       "  content: \"▸\";\n",
       "  float: left;\n",
       "  margin-right: 0.25em;\n",
       "  color: var(--sklearn-color-icon);\n",
       "}\n",
       "\n",
       "#sk-container-id-1 label.sk-toggleable__label-arrow:hover:before {\n",
       "  color: var(--sklearn-color-text);\n",
       "}\n",
       "\n",
       "/* Toggleable content - dropdown */\n",
       "\n",
       "#sk-container-id-1 div.sk-toggleable__content {\n",
       "  max-height: 0;\n",
       "  max-width: 0;\n",
       "  overflow: hidden;\n",
       "  text-align: left;\n",
       "  /* unfitted */\n",
       "  background-color: var(--sklearn-color-unfitted-level-0);\n",
       "}\n",
       "\n",
       "#sk-container-id-1 div.sk-toggleable__content.fitted {\n",
       "  /* fitted */\n",
       "  background-color: var(--sklearn-color-fitted-level-0);\n",
       "}\n",
       "\n",
       "#sk-container-id-1 div.sk-toggleable__content pre {\n",
       "  margin: 0.2em;\n",
       "  border-radius: 0.25em;\n",
       "  color: var(--sklearn-color-text);\n",
       "  /* unfitted */\n",
       "  background-color: var(--sklearn-color-unfitted-level-0);\n",
       "}\n",
       "\n",
       "#sk-container-id-1 div.sk-toggleable__content.fitted pre {\n",
       "  /* unfitted */\n",
       "  background-color: var(--sklearn-color-fitted-level-0);\n",
       "}\n",
       "\n",
       "#sk-container-id-1 input.sk-toggleable__control:checked~div.sk-toggleable__content {\n",
       "  /* Expand drop-down */\n",
       "  max-height: 200px;\n",
       "  max-width: 100%;\n",
       "  overflow: auto;\n",
       "}\n",
       "\n",
       "#sk-container-id-1 input.sk-toggleable__control:checked~label.sk-toggleable__label-arrow:before {\n",
       "  content: \"▾\";\n",
       "}\n",
       "\n",
       "/* Pipeline/ColumnTransformer-specific style */\n",
       "\n",
       "#sk-container-id-1 div.sk-label input.sk-toggleable__control:checked~label.sk-toggleable__label {\n",
       "  color: var(--sklearn-color-text);\n",
       "  background-color: var(--sklearn-color-unfitted-level-2);\n",
       "}\n",
       "\n",
       "#sk-container-id-1 div.sk-label.fitted input.sk-toggleable__control:checked~label.sk-toggleable__label {\n",
       "  background-color: var(--sklearn-color-fitted-level-2);\n",
       "}\n",
       "\n",
       "/* Estimator-specific style */\n",
       "\n",
       "/* Colorize estimator box */\n",
       "#sk-container-id-1 div.sk-estimator input.sk-toggleable__control:checked~label.sk-toggleable__label {\n",
       "  /* unfitted */\n",
       "  background-color: var(--sklearn-color-unfitted-level-2);\n",
       "}\n",
       "\n",
       "#sk-container-id-1 div.sk-estimator.fitted input.sk-toggleable__control:checked~label.sk-toggleable__label {\n",
       "  /* fitted */\n",
       "  background-color: var(--sklearn-color-fitted-level-2);\n",
       "}\n",
       "\n",
       "#sk-container-id-1 div.sk-label label.sk-toggleable__label,\n",
       "#sk-container-id-1 div.sk-label label {\n",
       "  /* The background is the default theme color */\n",
       "  color: var(--sklearn-color-text-on-default-background);\n",
       "}\n",
       "\n",
       "/* On hover, darken the color of the background */\n",
       "#sk-container-id-1 div.sk-label:hover label.sk-toggleable__label {\n",
       "  color: var(--sklearn-color-text);\n",
       "  background-color: var(--sklearn-color-unfitted-level-2);\n",
       "}\n",
       "\n",
       "/* Label box, darken color on hover, fitted */\n",
       "#sk-container-id-1 div.sk-label.fitted:hover label.sk-toggleable__label.fitted {\n",
       "  color: var(--sklearn-color-text);\n",
       "  background-color: var(--sklearn-color-fitted-level-2);\n",
       "}\n",
       "\n",
       "/* Estimator label */\n",
       "\n",
       "#sk-container-id-1 div.sk-label label {\n",
       "  font-family: monospace;\n",
       "  font-weight: bold;\n",
       "  display: inline-block;\n",
       "  line-height: 1.2em;\n",
       "}\n",
       "\n",
       "#sk-container-id-1 div.sk-label-container {\n",
       "  text-align: center;\n",
       "}\n",
       "\n",
       "/* Estimator-specific */\n",
       "#sk-container-id-1 div.sk-estimator {\n",
       "  font-family: monospace;\n",
       "  border: 1px dotted var(--sklearn-color-border-box);\n",
       "  border-radius: 0.25em;\n",
       "  box-sizing: border-box;\n",
       "  margin-bottom: 0.5em;\n",
       "  /* unfitted */\n",
       "  background-color: var(--sklearn-color-unfitted-level-0);\n",
       "}\n",
       "\n",
       "#sk-container-id-1 div.sk-estimator.fitted {\n",
       "  /* fitted */\n",
       "  background-color: var(--sklearn-color-fitted-level-0);\n",
       "}\n",
       "\n",
       "/* on hover */\n",
       "#sk-container-id-1 div.sk-estimator:hover {\n",
       "  /* unfitted */\n",
       "  background-color: var(--sklearn-color-unfitted-level-2);\n",
       "}\n",
       "\n",
       "#sk-container-id-1 div.sk-estimator.fitted:hover {\n",
       "  /* fitted */\n",
       "  background-color: var(--sklearn-color-fitted-level-2);\n",
       "}\n",
       "\n",
       "/* Specification for estimator info (e.g. \"i\" and \"?\") */\n",
       "\n",
       "/* Common style for \"i\" and \"?\" */\n",
       "\n",
       ".sk-estimator-doc-link,\n",
       "a:link.sk-estimator-doc-link,\n",
       "a:visited.sk-estimator-doc-link {\n",
       "  float: right;\n",
       "  font-size: smaller;\n",
       "  line-height: 1em;\n",
       "  font-family: monospace;\n",
       "  background-color: var(--sklearn-color-background);\n",
       "  border-radius: 1em;\n",
       "  height: 1em;\n",
       "  width: 1em;\n",
       "  text-decoration: none !important;\n",
       "  margin-left: 1ex;\n",
       "  /* unfitted */\n",
       "  border: var(--sklearn-color-unfitted-level-1) 1pt solid;\n",
       "  color: var(--sklearn-color-unfitted-level-1);\n",
       "}\n",
       "\n",
       ".sk-estimator-doc-link.fitted,\n",
       "a:link.sk-estimator-doc-link.fitted,\n",
       "a:visited.sk-estimator-doc-link.fitted {\n",
       "  /* fitted */\n",
       "  border: var(--sklearn-color-fitted-level-1) 1pt solid;\n",
       "  color: var(--sklearn-color-fitted-level-1);\n",
       "}\n",
       "\n",
       "/* On hover */\n",
       "div.sk-estimator:hover .sk-estimator-doc-link:hover,\n",
       ".sk-estimator-doc-link:hover,\n",
       "div.sk-label-container:hover .sk-estimator-doc-link:hover,\n",
       ".sk-estimator-doc-link:hover {\n",
       "  /* unfitted */\n",
       "  background-color: var(--sklearn-color-unfitted-level-3);\n",
       "  color: var(--sklearn-color-background);\n",
       "  text-decoration: none;\n",
       "}\n",
       "\n",
       "div.sk-estimator.fitted:hover .sk-estimator-doc-link.fitted:hover,\n",
       ".sk-estimator-doc-link.fitted:hover,\n",
       "div.sk-label-container:hover .sk-estimator-doc-link.fitted:hover,\n",
       ".sk-estimator-doc-link.fitted:hover {\n",
       "  /* fitted */\n",
       "  background-color: var(--sklearn-color-fitted-level-3);\n",
       "  color: var(--sklearn-color-background);\n",
       "  text-decoration: none;\n",
       "}\n",
       "\n",
       "/* Span, style for the box shown on hovering the info icon */\n",
       ".sk-estimator-doc-link span {\n",
       "  display: none;\n",
       "  z-index: 9999;\n",
       "  position: relative;\n",
       "  font-weight: normal;\n",
       "  right: .2ex;\n",
       "  padding: .5ex;\n",
       "  margin: .5ex;\n",
       "  width: min-content;\n",
       "  min-width: 20ex;\n",
       "  max-width: 50ex;\n",
       "  color: var(--sklearn-color-text);\n",
       "  box-shadow: 2pt 2pt 4pt #999;\n",
       "  /* unfitted */\n",
       "  background: var(--sklearn-color-unfitted-level-0);\n",
       "  border: .5pt solid var(--sklearn-color-unfitted-level-3);\n",
       "}\n",
       "\n",
       ".sk-estimator-doc-link.fitted span {\n",
       "  /* fitted */\n",
       "  background: var(--sklearn-color-fitted-level-0);\n",
       "  border: var(--sklearn-color-fitted-level-3);\n",
       "}\n",
       "\n",
       ".sk-estimator-doc-link:hover span {\n",
       "  display: block;\n",
       "}\n",
       "\n",
       "/* \"?\"-specific style due to the `<a>` HTML tag */\n",
       "\n",
       "#sk-container-id-1 a.estimator_doc_link {\n",
       "  float: right;\n",
       "  font-size: 1rem;\n",
       "  line-height: 1em;\n",
       "  font-family: monospace;\n",
       "  background-color: var(--sklearn-color-background);\n",
       "  border-radius: 1rem;\n",
       "  height: 1rem;\n",
       "  width: 1rem;\n",
       "  text-decoration: none;\n",
       "  /* unfitted */\n",
       "  color: var(--sklearn-color-unfitted-level-1);\n",
       "  border: var(--sklearn-color-unfitted-level-1) 1pt solid;\n",
       "}\n",
       "\n",
       "#sk-container-id-1 a.estimator_doc_link.fitted {\n",
       "  /* fitted */\n",
       "  border: var(--sklearn-color-fitted-level-1) 1pt solid;\n",
       "  color: var(--sklearn-color-fitted-level-1);\n",
       "}\n",
       "\n",
       "/* On hover */\n",
       "#sk-container-id-1 a.estimator_doc_link:hover {\n",
       "  /* unfitted */\n",
       "  background-color: var(--sklearn-color-unfitted-level-3);\n",
       "  color: var(--sklearn-color-background);\n",
       "  text-decoration: none;\n",
       "}\n",
       "\n",
       "#sk-container-id-1 a.estimator_doc_link.fitted:hover {\n",
       "  /* fitted */\n",
       "  background-color: var(--sklearn-color-fitted-level-3);\n",
       "}\n",
       "</style><div id=\"sk-container-id-1\" class=\"sk-top-container\"><div class=\"sk-text-repr-fallback\"><pre>VotingClassifier(estimators=[(&#x27;1st&#x27;,\n",
       "                              LGBMClassifier(max_depth=4, n_estimators=400,\n",
       "                                             verbose=-1)),\n",
       "                             (&#x27;2nd&#x27;,\n",
       "                              XGBClassifier(base_score=None, booster=None,\n",
       "                                            callbacks=None,\n",
       "                                            colsample_bylevel=None,\n",
       "                                            colsample_bynode=None,\n",
       "                                            colsample_bytree=None, device=None,\n",
       "                                            early_stopping_rounds=None,\n",
       "                                            enable_categorical=False,\n",
       "                                            eval_metric=&#x27;logloss&#x27;,\n",
       "                                            feature_types=None, gamma=None,\n",
       "                                            grow_poli...\n",
       "                                            min_child_weight=None, missing=nan,\n",
       "                                            monotone_constraints=None,\n",
       "                                            multi_strategy=None,\n",
       "                                            n_estimators=250, n_jobs=None,\n",
       "                                            num_parallel_tree=None,\n",
       "                                            random_state=None, ...)),\n",
       "                             (&#x27;3rd&#x27;,\n",
       "                              AdaBoostClassifier(algorithm=&#x27;SAMME&#x27;,\n",
       "                                                 learning_rate=0.35000000000000003,\n",
       "                                                 n_estimators=350)),\n",
       "                             (&#x27;4th&#x27;,\n",
       "                              KNeighborsClassifier(metric=&#x27;manhattan&#x27;,\n",
       "                                                   n_neighbors=4)),\n",
       "                             (&#x27;5th&#x27;, LogisticRegression(C=1, solver=&#x27;saga&#x27;))],\n",
       "                 voting=&#x27;soft&#x27;)</pre><b>In a Jupyter environment, please rerun this cell to show the HTML representation or trust the notebook. <br />On GitHub, the HTML representation is unable to render, please try loading this page with nbviewer.org.</b></div><div class=\"sk-container\" hidden><div class=\"sk-item sk-dashed-wrapped\"><div class=\"sk-label-container\"><div class=\"sk-label fitted sk-toggleable\"><input class=\"sk-toggleable__control sk-hidden--visually\" id=\"sk-estimator-id-1\" type=\"checkbox\" ><label for=\"sk-estimator-id-1\" class=\"sk-toggleable__label fitted sk-toggleable__label-arrow fitted\">&nbsp;&nbsp;VotingClassifier<a class=\"sk-estimator-doc-link fitted\" rel=\"noreferrer\" target=\"_blank\" href=\"https://scikit-learn.org/1.4/modules/generated/sklearn.ensemble.VotingClassifier.html\">?<span>Documentation for VotingClassifier</span></a><span class=\"sk-estimator-doc-link fitted\">i<span>Fitted</span></span></label><div class=\"sk-toggleable__content fitted\"><pre>VotingClassifier(estimators=[(&#x27;1st&#x27;,\n",
       "                              LGBMClassifier(max_depth=4, n_estimators=400,\n",
       "                                             verbose=-1)),\n",
       "                             (&#x27;2nd&#x27;,\n",
       "                              XGBClassifier(base_score=None, booster=None,\n",
       "                                            callbacks=None,\n",
       "                                            colsample_bylevel=None,\n",
       "                                            colsample_bynode=None,\n",
       "                                            colsample_bytree=None, device=None,\n",
       "                                            early_stopping_rounds=None,\n",
       "                                            enable_categorical=False,\n",
       "                                            eval_metric=&#x27;logloss&#x27;,\n",
       "                                            feature_types=None, gamma=None,\n",
       "                                            grow_poli...\n",
       "                                            min_child_weight=None, missing=nan,\n",
       "                                            monotone_constraints=None,\n",
       "                                            multi_strategy=None,\n",
       "                                            n_estimators=250, n_jobs=None,\n",
       "                                            num_parallel_tree=None,\n",
       "                                            random_state=None, ...)),\n",
       "                             (&#x27;3rd&#x27;,\n",
       "                              AdaBoostClassifier(algorithm=&#x27;SAMME&#x27;,\n",
       "                                                 learning_rate=0.35000000000000003,\n",
       "                                                 n_estimators=350)),\n",
       "                             (&#x27;4th&#x27;,\n",
       "                              KNeighborsClassifier(metric=&#x27;manhattan&#x27;,\n",
       "                                                   n_neighbors=4)),\n",
       "                             (&#x27;5th&#x27;, LogisticRegression(C=1, solver=&#x27;saga&#x27;))],\n",
       "                 voting=&#x27;soft&#x27;)</pre></div> </div></div><div class=\"sk-parallel\"><div class=\"sk-parallel-item\"><div class=\"sk-item\"><div class=\"sk-label-container\"><div class=\"sk-label fitted sk-toggleable\"><label>1st</label></div></div><div class=\"sk-serial\"><div class=\"sk-item\"><div class=\"sk-estimator fitted sk-toggleable\"><input class=\"sk-toggleable__control sk-hidden--visually\" id=\"sk-estimator-id-2\" type=\"checkbox\" ><label for=\"sk-estimator-id-2\" class=\"sk-toggleable__label fitted sk-toggleable__label-arrow fitted\">LGBMClassifier</label><div class=\"sk-toggleable__content fitted\"><pre>LGBMClassifier(max_depth=4, n_estimators=400, verbose=-1)</pre></div> </div></div></div></div></div><div class=\"sk-parallel-item\"><div class=\"sk-item\"><div class=\"sk-label-container\"><div class=\"sk-label fitted sk-toggleable\"><label>2nd</label></div></div><div class=\"sk-serial\"><div class=\"sk-item\"><div class=\"sk-estimator fitted sk-toggleable\"><input class=\"sk-toggleable__control sk-hidden--visually\" id=\"sk-estimator-id-3\" type=\"checkbox\" ><label for=\"sk-estimator-id-3\" class=\"sk-toggleable__label fitted sk-toggleable__label-arrow fitted\">XGBClassifier</label><div class=\"sk-toggleable__content fitted\"><pre>XGBClassifier(base_score=None, booster=None, callbacks=None,\n",
       "              colsample_bylevel=None, colsample_bynode=None,\n",
       "              colsample_bytree=None, device=None, early_stopping_rounds=None,\n",
       "              enable_categorical=False, eval_metric=&#x27;logloss&#x27;,\n",
       "              feature_types=None, gamma=None, grow_policy=None,\n",
       "              importance_type=None, interaction_constraints=None,\n",
       "              learning_rate=0.35000000000000003, max_bin=None,\n",
       "              max_cat_threshold=None, max_cat_to_onehot=None,\n",
       "              max_delta_step=None, max_depth=2, max_leaves=None,\n",
       "              min_child_weight=None, missing=nan, monotone_constraints=None,\n",
       "              multi_strategy=None, n_estimators=250, n_jobs=None,\n",
       "              num_parallel_tree=None, random_state=None, ...)</pre></div> </div></div></div></div></div><div class=\"sk-parallel-item\"><div class=\"sk-item\"><div class=\"sk-label-container\"><div class=\"sk-label fitted sk-toggleable\"><label>3rd</label></div></div><div class=\"sk-serial\"><div class=\"sk-item\"><div class=\"sk-estimator fitted sk-toggleable\"><input class=\"sk-toggleable__control sk-hidden--visually\" id=\"sk-estimator-id-4\" type=\"checkbox\" ><label for=\"sk-estimator-id-4\" class=\"sk-toggleable__label fitted sk-toggleable__label-arrow fitted\">&nbsp;AdaBoostClassifier<a class=\"sk-estimator-doc-link fitted\" rel=\"noreferrer\" target=\"_blank\" href=\"https://scikit-learn.org/1.4/modules/generated/sklearn.ensemble.AdaBoostClassifier.html\">?<span>Documentation for AdaBoostClassifier</span></a></label><div class=\"sk-toggleable__content fitted\"><pre>AdaBoostClassifier(algorithm=&#x27;SAMME&#x27;, learning_rate=0.35000000000000003,\n",
       "                   n_estimators=350)</pre></div> </div></div></div></div></div><div class=\"sk-parallel-item\"><div class=\"sk-item\"><div class=\"sk-label-container\"><div class=\"sk-label fitted sk-toggleable\"><label>4th</label></div></div><div class=\"sk-serial\"><div class=\"sk-item\"><div class=\"sk-estimator fitted sk-toggleable\"><input class=\"sk-toggleable__control sk-hidden--visually\" id=\"sk-estimator-id-5\" type=\"checkbox\" ><label for=\"sk-estimator-id-5\" class=\"sk-toggleable__label fitted sk-toggleable__label-arrow fitted\">&nbsp;KNeighborsClassifier<a class=\"sk-estimator-doc-link fitted\" rel=\"noreferrer\" target=\"_blank\" href=\"https://scikit-learn.org/1.4/modules/generated/sklearn.neighbors.KNeighborsClassifier.html\">?<span>Documentation for KNeighborsClassifier</span></a></label><div class=\"sk-toggleable__content fitted\"><pre>KNeighborsClassifier(metric=&#x27;manhattan&#x27;, n_neighbors=4)</pre></div> </div></div></div></div></div><div class=\"sk-parallel-item\"><div class=\"sk-item\"><div class=\"sk-label-container\"><div class=\"sk-label fitted sk-toggleable\"><label>5th</label></div></div><div class=\"sk-serial\"><div class=\"sk-item\"><div class=\"sk-estimator fitted sk-toggleable\"><input class=\"sk-toggleable__control sk-hidden--visually\" id=\"sk-estimator-id-6\" type=\"checkbox\" ><label for=\"sk-estimator-id-6\" class=\"sk-toggleable__label fitted sk-toggleable__label-arrow fitted\">&nbsp;LogisticRegression<a class=\"sk-estimator-doc-link fitted\" rel=\"noreferrer\" target=\"_blank\" href=\"https://scikit-learn.org/1.4/modules/generated/sklearn.linear_model.LogisticRegression.html\">?<span>Documentation for LogisticRegression</span></a></label><div class=\"sk-toggleable__content fitted\"><pre>LogisticRegression(C=1, solver=&#x27;saga&#x27;)</pre></div> </div></div></div></div></div></div></div></div></div>"
      ],
      "text/plain": [
       "VotingClassifier(estimators=[('1st',\n",
       "                              LGBMClassifier(max_depth=4, n_estimators=400,\n",
       "                                             verbose=-1)),\n",
       "                             ('2nd',\n",
       "                              XGBClassifier(base_score=None, booster=None,\n",
       "                                            callbacks=None,\n",
       "                                            colsample_bylevel=None,\n",
       "                                            colsample_bynode=None,\n",
       "                                            colsample_bytree=None, device=None,\n",
       "                                            early_stopping_rounds=None,\n",
       "                                            enable_categorical=False,\n",
       "                                            eval_metric='logloss',\n",
       "                                            feature_types=None, gamma=None,\n",
       "                                            grow_poli...\n",
       "                                            min_child_weight=None, missing=nan,\n",
       "                                            monotone_constraints=None,\n",
       "                                            multi_strategy=None,\n",
       "                                            n_estimators=250, n_jobs=None,\n",
       "                                            num_parallel_tree=None,\n",
       "                                            random_state=None, ...)),\n",
       "                             ('3rd',\n",
       "                              AdaBoostClassifier(algorithm='SAMME',\n",
       "                                                 learning_rate=0.35000000000000003,\n",
       "                                                 n_estimators=350)),\n",
       "                             ('4th',\n",
       "                              KNeighborsClassifier(metric='manhattan',\n",
       "                                                   n_neighbors=4)),\n",
       "                             ('5th', LogisticRegression(C=1, solver='saga'))],\n",
       "                 voting='soft')"
      ]
     },
     "execution_count": 30,
     "metadata": {},
     "output_type": "execute_result"
    }
   ],
   "source": [
    "voting_model.fit(X_resampled, y_resampled)"
   ]
  },
  {
   "cell_type": "code",
   "execution_count": 31,
   "id": "c06a4d8ab4933597",
   "metadata": {
    "ExecuteTime": {
     "end_time": "2024-05-18T15:46:41.264035Z",
     "start_time": "2024-05-18T15:46:40.108773Z"
    }
   },
   "outputs": [],
   "source": [
    "predictions = voting_model.predict(X_test)"
   ]
  },
  {
   "cell_type": "code",
   "execution_count": 32,
   "id": "4c6c956bcb259d7",
   "metadata": {
    "ExecuteTime": {
     "end_time": "2024-05-18T15:46:42.630671Z",
     "start_time": "2024-05-18T15:46:42.597780Z"
    }
   },
   "outputs": [
    {
     "name": "stdout",
     "output_type": "stream",
     "text": [
      "              precision    recall  f1-score   support\n",
      "\n",
      "           0       1.00      0.98      0.99     56651\n",
      "           1       0.06      0.87      0.12        95\n",
      "\n",
      "    accuracy                           0.98     56746\n",
      "   macro avg       0.53      0.93      0.55     56746\n",
      "weighted avg       1.00      0.98      0.99     56746\n",
      "\n"
     ]
    }
   ],
   "source": [
    "print(classification_report(y_test,predictions))"
   ]
  },
  {
   "cell_type": "code",
   "execution_count": 33,
   "id": "63a0f7c182238ec9",
   "metadata": {
    "ExecuteTime": {
     "end_time": "2024-05-18T15:47:22.483536Z",
     "start_time": "2024-05-18T15:47:21.326247Z"
    }
   },
   "outputs": [],
   "source": [
    "roc_auc = roc_auc_score(y_test, voting_model.predict_proba(X_test)[:, 1])\n",
    "mcc_score = matthews_corrcoef(y_test, predictions)"
   ]
  },
  {
   "cell_type": "code",
   "execution_count": 35,
   "id": "111ba515b878b645",
   "metadata": {
    "ExecuteTime": {
     "end_time": "2024-05-18T15:47:41.035488Z",
     "start_time": "2024-05-18T15:47:41.029508Z"
    }
   },
   "outputs": [
    {
     "name": "stdout",
     "output_type": "stream",
     "text": [
      "ROC-AUC Score: 0.9710478469744113\n"
     ]
    }
   ],
   "source": [
    "print(\"ROC-AUC Score:\",roc_auc)"
   ]
  },
  {
   "cell_type": "code",
   "execution_count": 38,
   "id": "b5c0355a2dace8ab",
   "metadata": {
    "ExecuteTime": {
     "end_time": "2024-05-18T15:51:45.887037Z",
     "start_time": "2024-05-18T15:51:45.775894Z"
    }
   },
   "outputs": [
    {
     "data": {
      "image/png": "[encoded data removed]",
      "text/plain": [
       "<Figure size 1000x600 with 2 Axes>"
      ]
     },
     "metadata": {},
     "output_type": "display_data"
    }
   ],
   "source": [
    "cm = confusion_matrix(y_test, predictions)\n",
    "sns.heatmap(cm, annot=True, fmt=\"d\", cmap=\"viridis\", xticklabels=[\"No\", \"Yes\"], yticklabels=[\"No\", \"Yes\"])\n",
    "plt.title(\"Confusion Matrix\")\n",
    "plt.ylabel(\"Predicted Label\")\n",
    "plt.xlabel(\"True Label\");"
   ]
  },
  {
   "cell_type": "code",
   "execution_count": 39,
   "id": "838d025b4ca813ab",
   "metadata": {
    "ExecuteTime": {
     "end_time": "2024-05-18T15:52:30.639853Z",
     "start_time": "2024-05-18T15:52:29.349616Z"
    }
   },
   "outputs": [
    {
     "data": {
      "image/png": "[encoded data removed]",
      "text/plain": [
       "<Figure size 800x600 with 1 Axes>"
      ]
     },
     "metadata": {},
     "output_type": "display_data"
    }
   ],
   "source": [
    "plot_roc_curve(voting_model, X_test, y_test)"
   ]
  },
  {
   "cell_type": "markdown",
   "id": "4cb97a65c73dbe6e",
   "metadata": {},
   "source": [
    "# Adjusting Class Weights"
   ]
  },
  {
   "cell_type": "code",
   "execution_count": 42,
   "id": "fd7eafcba8d05546",
   "metadata": {
    "ExecuteTime": {
     "end_time": "2024-05-18T16:04:10.213401Z",
     "start_time": "2024-05-18T16:04:10.189156Z"
    }
   },
   "outputs": [],
   "source": [
    "class_weights = compute_class_weight(\"balanced\", classes=np.unique(y_train), y=y_train)\n",
    "class_weight_dict = dict(zip(np.unique(y_train), class_weights))"
   ]
  },
  {
   "cell_type": "code",
   "execution_count": 47,
   "id": "801eb93cf81f79c",
   "metadata": {
    "ExecuteTime": {
     "end_time": "2024-05-18T16:14:47.567607Z",
     "start_time": "2024-05-18T16:14:47.552756Z"
    }
   },
   "outputs": [
    {
     "name": "stdout",
     "output_type": "stream",
     "text": [
      "{0: 0.5008340614822464, 1: 300.23809523809524}\n"
     ]
    }
   ],
   "source": [
    "print(class_weight_dict)"
   ]
  },
  {
   "cell_type": "code",
   "execution_count": 43,
   "id": "a65210ff09e9a489",
   "metadata": {
    "ExecuteTime": {
     "end_time": "2024-05-18T16:04:10.695875Z",
     "start_time": "2024-05-18T16:04:10.679141Z"
    }
   },
   "outputs": [],
   "source": [
    "model = RandomForestClassifier(class_weight=class_weight_dict, max_depth = None,n_estimators=250)"
   ]
  },
  {
   "cell_type": "code",
   "execution_count": 44,
   "id": "9e96ceaf93abf73d",
   "metadata": {
    "ExecuteTime": {
     "end_time": "2024-05-18T16:04:35.228576Z",
     "start_time": "2024-05-18T16:04:35.211894Z"
    }
   },
   "outputs": [],
   "source": [
    "skf = StratifiedKFold(n_splits=5, shuffle=True, random_state=42)"
   ]
  },
  {
   "cell_type": "code",
   "execution_count": 45,
   "id": "2d080faea88b152e",
   "metadata": {
    "ExecuteTime": {
     "end_time": "2024-05-18T16:14:47.535828Z",
     "start_time": "2024-05-18T16:04:40.376264Z"
    }
   },
   "outputs": [],
   "source": [
    "cv_results = cross_val_score(model, X_train, y_train,cv=skf, scoring=mcc_scorer)"
   ]
  },
  {
   "cell_type": "code",
   "execution_count": 46,
   "id": "29ebabee4ee264c0",
   "metadata": {
    "ExecuteTime": {
     "end_time": "2024-05-18T16:14:47.551759Z",
     "start_time": "2024-05-18T16:14:47.536825Z"
    }
   },
   "outputs": [
    {
     "name": "stdout",
     "output_type": "stream",
     "text": [
      "[0.82497534 0.87209748 0.76989713 0.84693824 0.88360506]\n",
      "Average CV Score: 0.839502648715359\n"
     ]
    }
   ],
   "source": [
    "print(cv_results)\n",
    "print(\"Average CV Score:\", cv_results.mean())"
   ]
  },
  {
   "cell_type": "code",
   "execution_count": 48,
   "id": "f57ffa9730219472",
   "metadata": {
    "ExecuteTime": {
     "end_time": "2024-05-18T16:44:01.656323Z",
     "start_time": "2024-05-18T16:41:20.151181Z"
    }
   },
   "outputs": [
    {
     "data": {
      "text/html": [
       "<style>#sk-container-id-2 {\n",
       "  /* Definition of color scheme common for light and dark mode */\n",
       "  --sklearn-color-text: black;\n",
       "  --sklearn-color-line: gray;\n",
       "  /* Definition of color scheme for unfitted estimators */\n",
       "  --sklearn-color-unfitted-level-0: #fff5e6;\n",
       "  --sklearn-color-unfitted-level-1: #f6e4d2;\n",
       "  --sklearn-color-unfitted-level-2: #ffe0b3;\n",
       "  --sklearn-color-unfitted-level-3: chocolate;\n",
       "  /* Definition of color scheme for fitted estimators */\n",
       "  --sklearn-color-fitted-level-0: #f0f8ff;\n",
       "  --sklearn-color-fitted-level-1: #d4ebff;\n",
       "  --sklearn-color-fitted-level-2: #b3dbfd;\n",
       "  --sklearn-color-fitted-level-3: cornflowerblue;\n",
       "\n",
       "  /* Specific color for light theme */\n",
       "  --sklearn-color-text-on-default-background: var(--sg-text-color, var(--theme-code-foreground, var(--jp-content-font-color1, black)));\n",
       "  --sklearn-color-background: var(--sg-background-color, var(--theme-background, var(--jp-layout-color0, white)));\n",
       "  --sklearn-color-border-box: var(--sg-text-color, var(--theme-code-foreground, var(--jp-content-font-color1, black)));\n",
       "  --sklearn-color-icon: #696969;\n",
       "\n",
       "  @media (prefers-color-scheme: dark) {\n",
       "    /* Redefinition of color scheme for dark theme */\n",
       "    --sklearn-color-text-on-default-background: var(--sg-text-color, var(--theme-code-foreground, var(--jp-content-font-color1, white)));\n",
       "    --sklearn-color-background: var(--sg-background-color, var(--theme-background, var(--jp-layout-color0, #111)));\n",
       "    --sklearn-color-border-box: var(--sg-text-color, var(--theme-code-foreground, var(--jp-content-font-color1, white)));\n",
       "    --sklearn-color-icon: #878787;\n",
       "  }\n",
       "}\n",
       "\n",
       "#sk-container-id-2 {\n",
       "  color: var(--sklearn-color-text);\n",
       "}\n",
       "\n",
       "#sk-container-id-2 pre {\n",
       "  padding: 0;\n",
       "}\n",
       "\n",
       "#sk-container-id-2 input.sk-hidden--visually {\n",
       "  border: 0;\n",
       "  clip: rect(1px 1px 1px 1px);\n",
       "  clip: rect(1px, 1px, 1px, 1px);\n",
       "  height: 1px;\n",
       "  margin: -1px;\n",
       "  overflow: hidden;\n",
       "  padding: 0;\n",
       "  position: absolute;\n",
       "  width: 1px;\n",
       "}\n",
       "\n",
       "#sk-container-id-2 div.sk-dashed-wrapped {\n",
       "  border: 1px dashed var(--sklearn-color-line);\n",
       "  margin: 0 0.4em 0.5em 0.4em;\n",
       "  box-sizing: border-box;\n",
       "  padding-bottom: 0.4em;\n",
       "  background-color: var(--sklearn-color-background);\n",
       "}\n",
       "\n",
       "#sk-container-id-2 div.sk-container {\n",
       "  /* jupyter's `normalize.less` sets `[hidden] { display: none; }`\n",
       "     but bootstrap.min.css set `[hidden] { display: none !important; }`\n",
       "     so we also need the `!important` here to be able to override the\n",
       "     default hidden behavior on the sphinx rendered scikit-learn.org.\n",
       "     See: https://github.com/scikit-learn/scikit-learn/issues/21755 */\n",
       "  display: inline-block !important;\n",
       "  position: relative;\n",
       "}\n",
       "\n",
       "#sk-container-id-2 div.sk-text-repr-fallback {\n",
       "  display: none;\n",
       "}\n",
       "\n",
       "div.sk-parallel-item,\n",
       "div.sk-serial,\n",
       "div.sk-item {\n",
       "  /* draw centered vertical line to link estimators */\n",
       "  background-image: linear-gradient(var(--sklearn-color-text-on-default-background), var(--sklearn-color-text-on-default-background));\n",
       "  background-size: 2px 100%;\n",
       "  background-repeat: no-repeat;\n",
       "  background-position: center center;\n",
       "}\n",
       "\n",
       "/* Parallel-specific style estimator block */\n",
       "\n",
       "#sk-container-id-2 div.sk-parallel-item::after {\n",
       "  content: \"\";\n",
       "  width: 100%;\n",
       "  border-bottom: 2px solid var(--sklearn-color-text-on-default-background);\n",
       "  flex-grow: 1;\n",
       "}\n",
       "\n",
       "#sk-container-id-2 div.sk-parallel {\n",
       "  display: flex;\n",
       "  align-items: stretch;\n",
       "  justify-content: center;\n",
       "  background-color: var(--sklearn-color-background);\n",
       "  position: relative;\n",
       "}\n",
       "\n",
       "#sk-container-id-2 div.sk-parallel-item {\n",
       "  display: flex;\n",
       "  flex-direction: column;\n",
       "}\n",
       "\n",
       "#sk-container-id-2 div.sk-parallel-item:first-child::after {\n",
       "  align-self: flex-end;\n",
       "  width: 50%;\n",
       "}\n",
       "\n",
       "#sk-container-id-2 div.sk-parallel-item:last-child::after {\n",
       "  align-self: flex-start;\n",
       "  width: 50%;\n",
       "}\n",
       "\n",
       "#sk-container-id-2 div.sk-parallel-item:only-child::after {\n",
       "  width: 0;\n",
       "}\n",
       "\n",
       "/* Serial-specific style estimator block */\n",
       "\n",
       "#sk-container-id-2 div.sk-serial {\n",
       "  display: flex;\n",
       "  flex-direction: column;\n",
       "  align-items: center;\n",
       "  background-color: var(--sklearn-color-background);\n",
       "  padding-right: 1em;\n",
       "  padding-left: 1em;\n",
       "}\n",
       "\n",
       "\n",
       "/* Toggleable style: style used for estimator/Pipeline/ColumnTransformer box that is\n",
       "clickable and can be expanded/collapsed.\n",
       "- Pipeline and ColumnTransformer use this feature and define the default style\n",
       "- Estimators will overwrite some part of the style using the `sk-estimator` class\n",
       "*/\n",
       "\n",
       "/* Pipeline and ColumnTransformer style (default) */\n",
       "\n",
       "#sk-container-id-2 div.sk-toggleable {\n",
       "  /* Default theme specific background. It is overwritten whether we have a\n",
       "  specific estimator or a Pipeline/ColumnTransformer */\n",
       "  background-color: var(--sklearn-color-background);\n",
       "}\n",
       "\n",
       "/* Toggleable label */\n",
       "#sk-container-id-2 label.sk-toggleable__label {\n",
       "  cursor: pointer;\n",
       "  display: block;\n",
       "  width: 100%;\n",
       "  margin-bottom: 0;\n",
       "  padding: 0.5em;\n",
       "  box-sizing: border-box;\n",
       "  text-align: center;\n",
       "}\n",
       "\n",
       "#sk-container-id-2 label.sk-toggleable__label-arrow:before {\n",
       "  /* Arrow on the left of the label */\n",
       "  content: \"▸\";\n",
       "  float: left;\n",
       "  margin-right: 0.25em;\n",
       "  color: var(--sklearn-color-icon);\n",
       "}\n",
       "\n",
       "#sk-container-id-2 label.sk-toggleable__label-arrow:hover:before {\n",
       "  color: var(--sklearn-color-text);\n",
       "}\n",
       "\n",
       "/* Toggleable content - dropdown */\n",
       "\n",
       "#sk-container-id-2 div.sk-toggleable__content {\n",
       "  max-height: 0;\n",
       "  max-width: 0;\n",
       "  overflow: hidden;\n",
       "  text-align: left;\n",
       "  /* unfitted */\n",
       "  background-color: var(--sklearn-color-unfitted-level-0);\n",
       "}\n",
       "\n",
       "#sk-container-id-2 div.sk-toggleable__content.fitted {\n",
       "  /* fitted */\n",
       "  background-color: var(--sklearn-color-fitted-level-0);\n",
       "}\n",
       "\n",
       "#sk-container-id-2 div.sk-toggleable__content pre {\n",
       "  margin: 0.2em;\n",
       "  border-radius: 0.25em;\n",
       "  color: var(--sklearn-color-text);\n",
       "  /* unfitted */\n",
       "  background-color: var(--sklearn-color-unfitted-level-0);\n",
       "}\n",
       "\n",
       "#sk-container-id-2 div.sk-toggleable__content.fitted pre {\n",
       "  /* unfitted */\n",
       "  background-color: var(--sklearn-color-fitted-level-0);\n",
       "}\n",
       "\n",
       "#sk-container-id-2 input.sk-toggleable__control:checked~div.sk-toggleable__content {\n",
       "  /* Expand drop-down */\n",
       "  max-height: 200px;\n",
       "  max-width: 100%;\n",
       "  overflow: auto;\n",
       "}\n",
       "\n",
       "#sk-container-id-2 input.sk-toggleable__control:checked~label.sk-toggleable__label-arrow:before {\n",
       "  content: \"▾\";\n",
       "}\n",
       "\n",
       "/* Pipeline/ColumnTransformer-specific style */\n",
       "\n",
       "#sk-container-id-2 div.sk-label input.sk-toggleable__control:checked~label.sk-toggleable__label {\n",
       "  color: var(--sklearn-color-text);\n",
       "  background-color: var(--sklearn-color-unfitted-level-2);\n",
       "}\n",
       "\n",
       "#sk-container-id-2 div.sk-label.fitted input.sk-toggleable__control:checked~label.sk-toggleable__label {\n",
       "  background-color: var(--sklearn-color-fitted-level-2);\n",
       "}\n",
       "\n",
       "/* Estimator-specific style */\n",
       "\n",
       "/* Colorize estimator box */\n",
       "#sk-container-id-2 div.sk-estimator input.sk-toggleable__control:checked~label.sk-toggleable__label {\n",
       "  /* unfitted */\n",
       "  background-color: var(--sklearn-color-unfitted-level-2);\n",
       "}\n",
       "\n",
       "#sk-container-id-2 div.sk-estimator.fitted input.sk-toggleable__control:checked~label.sk-toggleable__label {\n",
       "  /* fitted */\n",
       "  background-color: var(--sklearn-color-fitted-level-2);\n",
       "}\n",
       "\n",
       "#sk-container-id-2 div.sk-label label.sk-toggleable__label,\n",
       "#sk-container-id-2 div.sk-label label {\n",
       "  /* The background is the default theme color */\n",
       "  color: var(--sklearn-color-text-on-default-background);\n",
       "}\n",
       "\n",
       "/* On hover, darken the color of the background */\n",
       "#sk-container-id-2 div.sk-label:hover label.sk-toggleable__label {\n",
       "  color: var(--sklearn-color-text);\n",
       "  background-color: var(--sklearn-color-unfitted-level-2);\n",
       "}\n",
       "\n",
       "/* Label box, darken color on hover, fitted */\n",
       "#sk-container-id-2 div.sk-label.fitted:hover label.sk-toggleable__label.fitted {\n",
       "  color: var(--sklearn-color-text);\n",
       "  background-color: var(--sklearn-color-fitted-level-2);\n",
       "}\n",
       "\n",
       "/* Estimator label */\n",
       "\n",
       "#sk-container-id-2 div.sk-label label {\n",
       "  font-family: monospace;\n",
       "  font-weight: bold;\n",
       "  display: inline-block;\n",
       "  line-height: 1.2em;\n",
       "}\n",
       "\n",
       "#sk-container-id-2 div.sk-label-container {\n",
       "  text-align: center;\n",
       "}\n",
       "\n",
       "/* Estimator-specific */\n",
       "#sk-container-id-2 div.sk-estimator {\n",
       "  font-family: monospace;\n",
       "  border: 1px dotted var(--sklearn-color-border-box);\n",
       "  border-radius: 0.25em;\n",
       "  box-sizing: border-box;\n",
       "  margin-bottom: 0.5em;\n",
       "  /* unfitted */\n",
       "  background-color: var(--sklearn-color-unfitted-level-0);\n",
       "}\n",
       "\n",
       "#sk-container-id-2 div.sk-estimator.fitted {\n",
       "  /* fitted */\n",
       "  background-color: var(--sklearn-color-fitted-level-0);\n",
       "}\n",
       "\n",
       "/* on hover */\n",
       "#sk-container-id-2 div.sk-estimator:hover {\n",
       "  /* unfitted */\n",
       "  background-color: var(--sklearn-color-unfitted-level-2);\n",
       "}\n",
       "\n",
       "#sk-container-id-2 div.sk-estimator.fitted:hover {\n",
       "  /* fitted */\n",
       "  background-color: var(--sklearn-color-fitted-level-2);\n",
       "}\n",
       "\n",
       "/* Specification for estimator info (e.g. \"i\" and \"?\") */\n",
       "\n",
       "/* Common style for \"i\" and \"?\" */\n",
       "\n",
       ".sk-estimator-doc-link,\n",
       "a:link.sk-estimator-doc-link,\n",
       "a:visited.sk-estimator-doc-link {\n",
       "  float: right;\n",
       "  font-size: smaller;\n",
       "  line-height: 1em;\n",
       "  font-family: monospace;\n",
       "  background-color: var(--sklearn-color-background);\n",
       "  border-radius: 1em;\n",
       "  height: 1em;\n",
       "  width: 1em;\n",
       "  text-decoration: none !important;\n",
       "  margin-left: 1ex;\n",
       "  /* unfitted */\n",
       "  border: var(--sklearn-color-unfitted-level-1) 1pt solid;\n",
       "  color: var(--sklearn-color-unfitted-level-1);\n",
       "}\n",
       "\n",
       ".sk-estimator-doc-link.fitted,\n",
       "a:link.sk-estimator-doc-link.fitted,\n",
       "a:visited.sk-estimator-doc-link.fitted {\n",
       "  /* fitted */\n",
       "  border: var(--sklearn-color-fitted-level-1) 1pt solid;\n",
       "  color: var(--sklearn-color-fitted-level-1);\n",
       "}\n",
       "\n",
       "/* On hover */\n",
       "div.sk-estimator:hover .sk-estimator-doc-link:hover,\n",
       ".sk-estimator-doc-link:hover,\n",
       "div.sk-label-container:hover .sk-estimator-doc-link:hover,\n",
       ".sk-estimator-doc-link:hover {\n",
       "  /* unfitted */\n",
       "  background-color: var(--sklearn-color-unfitted-level-3);\n",
       "  color: var(--sklearn-color-background);\n",
       "  text-decoration: none;\n",
       "}\n",
       "\n",
       "div.sk-estimator.fitted:hover .sk-estimator-doc-link.fitted:hover,\n",
       ".sk-estimator-doc-link.fitted:hover,\n",
       "div.sk-label-container:hover .sk-estimator-doc-link.fitted:hover,\n",
       ".sk-estimator-doc-link.fitted:hover {\n",
       "  /* fitted */\n",
       "  background-color: var(--sklearn-color-fitted-level-3);\n",
       "  color: var(--sklearn-color-background);\n",
       "  text-decoration: none;\n",
       "}\n",
       "\n",
       "/* Span, style for the box shown on hovering the info icon */\n",
       ".sk-estimator-doc-link span {\n",
       "  display: none;\n",
       "  z-index: 9999;\n",
       "  position: relative;\n",
       "  font-weight: normal;\n",
       "  right: .2ex;\n",
       "  padding: .5ex;\n",
       "  margin: .5ex;\n",
       "  width: min-content;\n",
       "  min-width: 20ex;\n",
       "  max-width: 50ex;\n",
       "  color: var(--sklearn-color-text);\n",
       "  box-shadow: 2pt 2pt 4pt #999;\n",
       "  /* unfitted */\n",
       "  background: var(--sklearn-color-unfitted-level-0);\n",
       "  border: .5pt solid var(--sklearn-color-unfitted-level-3);\n",
       "}\n",
       "\n",
       ".sk-estimator-doc-link.fitted span {\n",
       "  /* fitted */\n",
       "  background: var(--sklearn-color-fitted-level-0);\n",
       "  border: var(--sklearn-color-fitted-level-3);\n",
       "}\n",
       "\n",
       ".sk-estimator-doc-link:hover span {\n",
       "  display: block;\n",
       "}\n",
       "\n",
       "/* \"?\"-specific style due to the `<a>` HTML tag */\n",
       "\n",
       "#sk-container-id-2 a.estimator_doc_link {\n",
       "  float: right;\n",
       "  font-size: 1rem;\n",
       "  line-height: 1em;\n",
       "  font-family: monospace;\n",
       "  background-color: var(--sklearn-color-background);\n",
       "  border-radius: 1rem;\n",
       "  height: 1rem;\n",
       "  width: 1rem;\n",
       "  text-decoration: none;\n",
       "  /* unfitted */\n",
       "  color: var(--sklearn-color-unfitted-level-1);\n",
       "  border: var(--sklearn-color-unfitted-level-1) 1pt solid;\n",
       "}\n",
       "\n",
       "#sk-container-id-2 a.estimator_doc_link.fitted {\n",
       "  /* fitted */\n",
       "  border: var(--sklearn-color-fitted-level-1) 1pt solid;\n",
       "  color: var(--sklearn-color-fitted-level-1);\n",
       "}\n",
       "\n",
       "/* On hover */\n",
       "#sk-container-id-2 a.estimator_doc_link:hover {\n",
       "  /* unfitted */\n",
       "  background-color: var(--sklearn-color-unfitted-level-3);\n",
       "  color: var(--sklearn-color-background);\n",
       "  text-decoration: none;\n",
       "}\n",
       "\n",
       "#sk-container-id-2 a.estimator_doc_link.fitted:hover {\n",
       "  /* fitted */\n",
       "  background-color: var(--sklearn-color-fitted-level-3);\n",
       "}\n",
       "</style><div id=\"sk-container-id-2\" class=\"sk-top-container\"><div class=\"sk-text-repr-fallback\"><pre>RandomForestClassifier(class_weight={0: 0.5008340614822464,\n",
       "                                     1: 300.23809523809524},\n",
       "                       n_estimators=250)</pre><b>In a Jupyter environment, please rerun this cell to show the HTML representation or trust the notebook. <br />On GitHub, the HTML representation is unable to render, please try loading this page with nbviewer.org.</b></div><div class=\"sk-container\" hidden><div class=\"sk-item\"><div class=\"sk-estimator fitted sk-toggleable\"><input class=\"sk-toggleable__control sk-hidden--visually\" id=\"sk-estimator-id-7\" type=\"checkbox\" checked><label for=\"sk-estimator-id-7\" class=\"sk-toggleable__label fitted sk-toggleable__label-arrow fitted\">&nbsp;&nbsp;RandomForestClassifier<a class=\"sk-estimator-doc-link fitted\" rel=\"noreferrer\" target=\"_blank\" href=\"https://scikit-learn.org/1.4/modules/generated/sklearn.ensemble.RandomForestClassifier.html\">?<span>Documentation for RandomForestClassifier</span></a><span class=\"sk-estimator-doc-link fitted\">i<span>Fitted</span></span></label><div class=\"sk-toggleable__content fitted\"><pre>RandomForestClassifier(class_weight={0: 0.5008340614822464,\n",
       "                                     1: 300.23809523809524},\n",
       "                       n_estimators=250)</pre></div> </div></div></div></div>"
      ],
      "text/plain": [
       "RandomForestClassifier(class_weight={0: 0.5008340614822464,\n",
       "                                     1: 300.23809523809524},\n",
       "                       n_estimators=250)"
      ]
     },
     "execution_count": 48,
     "metadata": {},
     "output_type": "execute_result"
    }
   ],
   "source": [
    "model.fit(X_train, y_train)"
   ]
  },
  {
   "cell_type": "code",
   "execution_count": 49,
   "id": "2b71fd70efd3030e",
   "metadata": {
    "ExecuteTime": {
     "end_time": "2024-05-18T16:44:01.986113Z",
     "start_time": "2024-05-18T16:44:01.657320Z"
    }
   },
   "outputs": [],
   "source": [
    "predictions = model.predict(X_test)"
   ]
  },
  {
   "cell_type": "code",
   "execution_count": 50,
   "id": "afbf1acdd4f9de84",
   "metadata": {
    "ExecuteTime": {
     "end_time": "2024-05-18T16:45:44.821780Z",
     "start_time": "2024-05-18T16:45:44.789664Z"
    }
   },
   "outputs": [
    {
     "name": "stdout",
     "output_type": "stream",
     "text": [
      "              precision    recall  f1-score   support\n",
      "\n",
      "           0       1.00      1.00      1.00     56651\n",
      "           1       0.99      0.71      0.82        95\n",
      "\n",
      "    accuracy                           1.00     56746\n",
      "   macro avg       0.99      0.85      0.91     56746\n",
      "weighted avg       1.00      1.00      1.00     56746\n",
      "\n"
     ]
    }
   ],
   "source": [
    "print(classification_report(y_test,predictions))"
   ]
  },
  {
   "cell_type": "code",
   "execution_count": 56,
   "id": "59924de4a577f5a6",
   "metadata": {
    "ExecuteTime": {
     "end_time": "2024-05-18T16:48:34.248256Z",
     "start_time": "2024-05-18T16:48:33.922464Z"
    }
   },
   "outputs": [],
   "source": [
    "roc_auc = roc_auc_score(y_test, model.predict_proba(X_test)[:, 1])\n",
    "mcc_score = matthews_corrcoef(y_test, predictions)"
   ]
  },
  {
   "cell_type": "code",
   "execution_count": 57,
   "id": "6c98557ee1fc7b01",
   "metadata": {
    "ExecuteTime": {
     "end_time": "2024-05-18T16:48:34.264205Z",
     "start_time": "2024-05-18T16:48:34.259221Z"
    }
   },
   "outputs": [
    {
     "name": "stdout",
     "output_type": "stream",
     "text": [
      "ROC-AUC Score: 0.943820845825177\n",
      "MCC Score: 0.833382171603196\n"
     ]
    }
   ],
   "source": [
    "print(\"ROC-AUC Score:\",roc_auc)\n",
    "print(\"MCC Score:\",mcc_score)"
   ]
  },
  {
   "cell_type": "code",
   "execution_count": 53,
   "id": "e1532811e8c3547e",
   "metadata": {
    "ExecuteTime": {
     "end_time": "2024-05-18T16:47:12.005990Z",
     "start_time": "2024-05-18T16:47:11.909642Z"
    }
   },
   "outputs": [
    {
     "data": {
      "image/png": "[encoded data removed]",
      "text/plain": [
       "<Figure size 1000x600 with 2 Axes>"
      ]
     },
     "metadata": {},
     "output_type": "display_data"
    }
   ],
   "source": [
    "cm = confusion_matrix(y_test, predictions)\n",
    "sns.heatmap(cm, annot=True, fmt=\"d\", cmap=\"viridis\", xticklabels=[\"No\", \"Yes\"], yticklabels=[\"No\", \"Yes\"])\n",
    "plt.title(\"Confusion Matrix\")\n",
    "plt.ylabel(\"Predicted Label\")\n",
    "plt.xlabel(\"True Label\");"
   ]
  },
  {
   "cell_type": "code",
   "execution_count": null,
   "id": "9a04a29022fb4a2a",
   "metadata": {},
   "outputs": [],
   "source": []
  }
 ],
 "metadata": {
  "kernelspec": {
   "display_name": "Python 3 (ipykernel)",
   "language": "python",
   "name": "python3"
  },
  "language_info": {
   "codemirror_mode": {
    "name": "ipython",
    "version": 3
   },
   "file_extension": ".py",
   "mimetype": "text/x-python",
   "name": "python",
   "nbconvert_exporter": "python",
   "pygments_lexer": "ipython3",
   "version": "3.12.3"
  }
 },
 "nbformat": 4,
 "nbformat_minor": 5
}
